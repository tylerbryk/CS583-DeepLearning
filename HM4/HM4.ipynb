{
 "cells": [
  {
   "cell_type": "markdown",
   "metadata": {},
   "source": [
    "# Homework 4: Build a CNN for Image Recognition\n",
    "\n",
    "### Name: Tyler Bryk\n"
   ]
  },
  {
   "cell_type": "markdown",
   "metadata": {},
   "source": [
    "## 1. Data Preparation\n",
    "\n",
    "### 1.1. Load data"
   ]
  },
  {
   "cell_type": "code",
   "execution_count": 1,
   "metadata": {},
   "outputs": [
    {
     "name": "stderr",
     "output_type": "stream",
     "text": [
      "Using TensorFlow backend.\n"
     ]
    },
    {
     "name": "stdout",
     "output_type": "stream",
     "text": [
      "shape of x_train: (50000, 32, 32, 3)\n",
      "shape of y_train: (50000, 1)\n",
      "shape of x_test: (10000, 32, 32, 3)\n",
      "shape of y_test: (10000, 1)\n",
      "number of classes: 10\n"
     ]
    }
   ],
   "source": [
    "from keras.datasets import cifar10\n",
    "import numpy\n",
    "\n",
    "(x_train, y_train), (x_test, y_test) = cifar10.load_data()\n",
    "\n",
    "print('shape of x_train: ' + str(x_train.shape))\n",
    "print('shape of y_train: ' + str(y_train.shape))\n",
    "print('shape of x_test: ' + str(x_test.shape))\n",
    "print('shape of y_test: ' + str(y_test.shape))\n",
    "print('number of classes: ' + str(numpy.max(y_train) - numpy.min(y_train) + 1))"
   ]
  },
  {
   "cell_type": "markdown",
   "metadata": {},
   "source": [
    "### 1.2. One-hot encode the labels\n",
    "\n",
    "In the input, a label is a scalar in $\\{0, 1, \\cdots , 9\\}$. One-hot encode transform such a scalar to a $10$-dim vector. E.g., a scalar ```y_train[j]=3``` is transformed to the vector ```y_train_vec[j]=[0, 0, 0, 1, 0, 0, 0, 0, 0, 0]```.\n",
    "\n",
    "1. Define a function ```to_one_hot``` that transforms an $n\\times 1$ array to a $n\\times 10$ matrix.\n",
    "\n",
    "2. Apply the function to ```y_train``` and ```y_test```."
   ]
  },
  {
   "cell_type": "code",
   "execution_count": 2,
   "metadata": {},
   "outputs": [
    {
     "name": "stdout",
     "output_type": "stream",
     "text": [
      "Shape of y_train_vec: (50000, 10)\n",
      "Shape of y_test_vec: (10000, 10)\n",
      "[6]\n",
      "[0. 0. 0. 0. 0. 0. 1. 0. 0. 0.]\n"
     ]
    }
   ],
   "source": [
    "def to_one_hot(y, num_class=10):\n",
    "    results = numpy.zeros((len(y), num_class))\n",
    "    for i, label in enumerate(y):\n",
    "        results[i, label] = 1.\n",
    "    return results\n",
    "\n",
    "y_train_vec = to_one_hot(y_train)\n",
    "y_test_vec = to_one_hot(y_test)\n",
    "\n",
    "print('Shape of y_train_vec: ' + str(y_train_vec.shape))\n",
    "print('Shape of y_test_vec: ' + str(y_test_vec.shape))\n",
    "\n",
    "print(y_train[0])\n",
    "print(y_train_vec[0])"
   ]
  },
  {
   "cell_type": "code",
   "execution_count": 3,
   "metadata": {},
   "outputs": [],
   "source": [
    "# Convert Image Data to Float-32\n",
    "x_train = x_train.astype('float32')\n",
    "x_test = x_test.astype('float32')\n",
    "\n",
    "# Standardize Data with Z-scores\n",
    "mean = numpy.mean(x_train, axis=(0,1,2,3))\n",
    "std  = numpy.std(x_train, axis=(0,1,2,3))\n",
    "x_train = (x_train - mean) / (std + 1e-7)\n",
    "x_test  = (x_test - mean) / (std + 1e-7)"
   ]
  },
  {
   "cell_type": "markdown",
   "metadata": {},
   "source": [
    "### 1.3. Randomly partition the training set to training and validation sets\n",
    "\n",
    "Randomly partition the 50K training samples to 2 sets:\n",
    "* a training set containing 40K samples\n",
    "* a validation set containing 10K samples\n"
   ]
  },
  {
   "cell_type": "code",
   "execution_count": 4,
   "metadata": {},
   "outputs": [
    {
     "name": "stdout",
     "output_type": "stream",
     "text": [
      "Shape of x_tr: (40000, 32, 32, 3)\n",
      "Shape of y_tr: (40000, 10)\n",
      "Shape of x_val: (10000, 32, 32, 3)\n",
      "Shape of y_val: (10000, 10)\n"
     ]
    }
   ],
   "source": [
    "rand_indices = numpy.random.permutation(50000)\n",
    "train_indices = rand_indices[0:40000]\n",
    "valid_indices = rand_indices[40000:50000]\n",
    "\n",
    "x_val = x_train[valid_indices, :]\n",
    "y_val = y_train_vec[valid_indices, :]\n",
    "\n",
    "x_tr = x_train[train_indices, :]\n",
    "y_tr = y_train_vec[train_indices, :]\n",
    "\n",
    "print('Shape of x_tr: ' + str(x_tr.shape))\n",
    "print('Shape of y_tr: ' + str(y_tr.shape))\n",
    "print('Shape of x_val: ' + str(x_val.shape))\n",
    "print('Shape of y_val: ' + str(y_val.shape))"
   ]
  },
  {
   "cell_type": "markdown",
   "metadata": {},
   "source": [
    "## 2. Build a CNN and tune its hyper-parameters\n",
    "\n",
    "1. Build a convolutional neural network model\n",
    "2. Use the validation data to tune the hyper-parameters (e.g., network structure, and optimization algorithm)\n",
    "    * Do NOT use test data for hyper-parameter tuning!!!\n",
    "3. Try to achieve a validation accuracy as high as possible."
   ]
  },
  {
   "cell_type": "code",
   "execution_count": 5,
   "metadata": {},
   "outputs": [
    {
     "name": "stdout",
     "output_type": "stream",
     "text": [
      "Model: \"sequential_1\"\n",
      "_________________________________________________________________\n",
      "Layer (type)                 Output Shape              Param #   \n",
      "=================================================================\n",
      "conv2d_1 (Conv2D)            (None, 32, 32, 32)        896       \n",
      "_________________________________________________________________\n",
      "batch_normalization_1 (Batch (None, 32, 32, 32)        128       \n",
      "_________________________________________________________________\n",
      "activation_1 (Activation)    (None, 32, 32, 32)        0         \n",
      "_________________________________________________________________\n",
      "conv2d_2 (Conv2D)            (None, 32, 32, 32)        9248      \n",
      "_________________________________________________________________\n",
      "batch_normalization_2 (Batch (None, 32, 32, 32)        128       \n",
      "_________________________________________________________________\n",
      "activation_2 (Activation)    (None, 32, 32, 32)        0         \n",
      "_________________________________________________________________\n",
      "max_pooling2d_1 (MaxPooling2 (None, 16, 16, 32)        0         \n",
      "_________________________________________________________________\n",
      "conv2d_3 (Conv2D)            (None, 16, 16, 64)        18496     \n",
      "_________________________________________________________________\n",
      "batch_normalization_3 (Batch (None, 16, 16, 64)        256       \n",
      "_________________________________________________________________\n",
      "activation_3 (Activation)    (None, 16, 16, 64)        0         \n",
      "_________________________________________________________________\n",
      "conv2d_4 (Conv2D)            (None, 16, 16, 64)        36928     \n",
      "_________________________________________________________________\n",
      "batch_normalization_4 (Batch (None, 16, 16, 64)        256       \n",
      "_________________________________________________________________\n",
      "activation_4 (Activation)    (None, 16, 16, 64)        0         \n",
      "_________________________________________________________________\n",
      "max_pooling2d_2 (MaxPooling2 (None, 8, 8, 64)          0         \n",
      "_________________________________________________________________\n",
      "conv2d_5 (Conv2D)            (None, 8, 8, 128)         73856     \n",
      "_________________________________________________________________\n",
      "batch_normalization_5 (Batch (None, 8, 8, 128)         512       \n",
      "_________________________________________________________________\n",
      "activation_5 (Activation)    (None, 8, 8, 128)         0         \n",
      "_________________________________________________________________\n",
      "conv2d_6 (Conv2D)            (None, 8, 8, 128)         147584    \n",
      "_________________________________________________________________\n",
      "batch_normalization_6 (Batch (None, 8, 8, 128)         512       \n",
      "_________________________________________________________________\n",
      "activation_6 (Activation)    (None, 8, 8, 128)         0         \n",
      "_________________________________________________________________\n",
      "max_pooling2d_3 (MaxPooling2 (None, 4, 4, 128)         0         \n",
      "_________________________________________________________________\n",
      "flatten_1 (Flatten)          (None, 2048)              0         \n",
      "_________________________________________________________________\n",
      "dropout_1 (Dropout)          (None, 2048)              0         \n",
      "_________________________________________________________________\n",
      "dense_1 (Dense)              (None, 512)               1049088   \n",
      "_________________________________________________________________\n",
      "batch_normalization_7 (Batch (None, 512)               2048      \n",
      "_________________________________________________________________\n",
      "activation_7 (Activation)    (None, 512)               0         \n",
      "_________________________________________________________________\n",
      "dense_2 (Dense)              (None, 10)                5130      \n",
      "_________________________________________________________________\n",
      "batch_normalization_8 (Batch (None, 10)                40        \n",
      "_________________________________________________________________\n",
      "activation_8 (Activation)    (None, 10)                0         \n",
      "=================================================================\n",
      "Total params: 1,345,106\n",
      "Trainable params: 1,343,166\n",
      "Non-trainable params: 1,940\n",
      "_________________________________________________________________\n"
     ]
    }
   ],
   "source": [
    "from keras.layers import Conv2D, MaxPooling2D, Flatten, Dense, Dropout, Activation\n",
    "from keras.layers.normalization import BatchNormalization\n",
    "from keras.models import Sequential\n",
    "from keras.regularizers import l2\n",
    "\n",
    "model = Sequential()\n",
    "model.add(Conv2D(32, (3,3), padding='same', kernel_regularizer=l2(1e-4), input_shape=(32,32,3)))\n",
    "model.add(BatchNormalization())\n",
    "model.add(Activation('relu'))\n",
    "model.add(Conv2D(32, (3,3), padding='same', kernel_regularizer=l2(1e-4)))\n",
    "model.add(BatchNormalization())\n",
    "model.add(Activation('relu'))\n",
    "model.add(MaxPooling2D(pool_size=(2,2)))\n",
    "\n",
    "model.add(Conv2D(64, (3,3), padding='same', kernel_regularizer=l2(1e-4)))\n",
    "model.add(BatchNormalization())\n",
    "model.add(Activation('relu'))\n",
    "model.add(Conv2D(64, (3,3), padding='same', kernel_regularizer=l2(1e-4)))\n",
    "model.add(BatchNormalization())\n",
    "model.add(Activation('relu'))\n",
    "model.add(MaxPooling2D(pool_size=(2,2)))\n",
    "\n",
    "model.add(Conv2D(128, (3,3), padding='same', kernel_regularizer=l2(1e-4)))\n",
    "model.add(BatchNormalization())\n",
    "model.add(Activation('relu'))\n",
    "model.add(Conv2D(128, (3,3), padding='same', kernel_regularizer=l2(1e-4)))\n",
    "model.add(BatchNormalization())\n",
    "model.add(Activation('relu'))\n",
    "model.add(MaxPooling2D(pool_size=(2,2)))\n",
    "\n",
    "model.add(Flatten())\n",
    "model.add(Dropout(0.4))\n",
    "model.add(Dense(512))\n",
    "model.add(BatchNormalization())\n",
    "model.add(Activation('relu'))\n",
    "model.add(Dense(10))\n",
    "model.add(BatchNormalization())\n",
    "model.add(Activation('softmax'))\n",
    "\n",
    "\n",
    "model.summary()"
   ]
  },
  {
   "cell_type": "code",
   "execution_count": 6,
   "metadata": {},
   "outputs": [
    {
     "name": "stdout",
     "output_type": "stream",
     "text": [
      "Epoch 1/40\n",
      "625/625 [==============================] - 43s 68ms/step - loss: 1.4372 - accuracy: 0.5164 - val_loss: 1.4614 - val_accuracy: 0.5772\n",
      "Epoch 2/40\n",
      "625/625 [==============================] - 41s 65ms/step - loss: 1.0944 - accuracy: 0.6488 - val_loss: 1.2678 - val_accuracy: 0.5674\n",
      "Epoch 3/40\n",
      "625/625 [==============================] - 41s 65ms/step - loss: 0.9581 - accuracy: 0.6962 - val_loss: 0.9060 - val_accuracy: 0.6994\n",
      "Epoch 4/40\n",
      "625/625 [==============================] - 40s 65ms/step - loss: 0.8839 - accuracy: 0.7228 - val_loss: 1.0449 - val_accuracy: 0.6823\n",
      "Epoch 5/40\n",
      "625/625 [==============================] - 41s 65ms/step - loss: 0.8266 - accuracy: 0.7462 - val_loss: 0.9078 - val_accuracy: 0.7466\n",
      "Epoch 6/40\n",
      "625/625 [==============================] - 41s 65ms/step - loss: 0.7884 - accuracy: 0.7578 - val_loss: 0.9497 - val_accuracy: 0.7676\n",
      "Epoch 7/40\n",
      "625/625 [==============================] - 41s 65ms/step - loss: 0.7523 - accuracy: 0.7732 - val_loss: 0.7326 - val_accuracy: 0.7644\n",
      "Epoch 8/40\n",
      "625/625 [==============================] - 41s 65ms/step - loss: 0.7233 - accuracy: 0.7847 - val_loss: 0.7343 - val_accuracy: 0.7785\n",
      "Epoch 9/40\n",
      "625/625 [==============================] - 41s 65ms/step - loss: 0.7115 - accuracy: 0.7891 - val_loss: 1.0327 - val_accuracy: 0.7623\n",
      "Epoch 10/40\n",
      "625/625 [==============================] - 41s 65ms/step - loss: 0.6973 - accuracy: 0.7937 - val_loss: 0.7087 - val_accuracy: 0.8130\n",
      "Epoch 11/40\n",
      "625/625 [==============================] - 41s 65ms/step - loss: 0.6740 - accuracy: 0.8032 - val_loss: 0.6632 - val_accuracy: 0.8112\n",
      "Epoch 12/40\n",
      "625/625 [==============================] - 41s 66ms/step - loss: 0.6592 - accuracy: 0.8083 - val_loss: 0.6135 - val_accuracy: 0.7917\n",
      "Epoch 13/40\n",
      "625/625 [==============================] - 41s 66ms/step - loss: 0.6466 - accuracy: 0.8134 - val_loss: 0.8134 - val_accuracy: 0.8101\n",
      "Epoch 14/40\n",
      "625/625 [==============================] - 41s 66ms/step - loss: 0.6358 - accuracy: 0.8205 - val_loss: 0.5840 - val_accuracy: 0.8378\n",
      "Epoch 15/40\n",
      "625/625 [==============================] - 41s 66ms/step - loss: 0.6240 - accuracy: 0.8250 - val_loss: 0.5340 - val_accuracy: 0.8243\n",
      "Epoch 16/40\n",
      "625/625 [==============================] - 41s 66ms/step - loss: 0.6174 - accuracy: 0.8264 - val_loss: 0.9923 - val_accuracy: 0.7798\n",
      "Epoch 17/40\n",
      "625/625 [==============================] - 41s 66ms/step - loss: 0.6060 - accuracy: 0.8324 - val_loss: 0.4769 - val_accuracy: 0.8444\n",
      "Epoch 18/40\n",
      "625/625 [==============================] - 41s 65ms/step - loss: 0.6038 - accuracy: 0.8318 - val_loss: 0.8564 - val_accuracy: 0.8276\n",
      "Epoch 19/40\n",
      "625/625 [==============================] - 41s 66ms/step - loss: 0.5955 - accuracy: 0.8372 - val_loss: 0.6603 - val_accuracy: 0.8456\n",
      "Epoch 20/40\n",
      "625/625 [==============================] - 41s 66ms/step - loss: 0.5919 - accuracy: 0.8374 - val_loss: 0.7355 - val_accuracy: 0.8473\n",
      "Epoch 21/40\n",
      "625/625 [==============================] - 41s 65ms/step - loss: 0.5826 - accuracy: 0.8443 - val_loss: 0.6478 - val_accuracy: 0.8209\n",
      "Epoch 22/40\n",
      "625/625 [==============================] - 41s 66ms/step - loss: 0.5865 - accuracy: 0.8423 - val_loss: 0.7423 - val_accuracy: 0.8111\n",
      "Epoch 23/40\n",
      "625/625 [==============================] - 41s 66ms/step - loss: 0.5738 - accuracy: 0.8447 - val_loss: 0.6960 - val_accuracy: 0.8399\n",
      "Epoch 24/40\n",
      "625/625 [==============================] - 41s 65ms/step - loss: 0.5717 - accuracy: 0.8474 - val_loss: 0.4210 - val_accuracy: 0.8439\n",
      "Epoch 25/40\n",
      "625/625 [==============================] - 41s 66ms/step - loss: 0.5611 - accuracy: 0.8522 - val_loss: 0.7268 - val_accuracy: 0.8254\n",
      "Epoch 26/40\n",
      "625/625 [==============================] - 43s 68ms/step - loss: 0.5564 - accuracy: 0.8551 - val_loss: 0.4403 - val_accuracy: 0.8518\n",
      "Epoch 27/40\n",
      "625/625 [==============================] - 41s 65ms/step - loss: 0.5546 - accuracy: 0.8547 - val_loss: 0.5143 - val_accuracy: 0.8390\n",
      "Epoch 28/40\n",
      "625/625 [==============================] - 41s 66ms/step - loss: 0.5529 - accuracy: 0.8557 - val_loss: 0.7895 - val_accuracy: 0.7939\n",
      "Epoch 29/40\n",
      "625/625 [==============================] - 41s 65ms/step - loss: 0.5428 - accuracy: 0.8624 - val_loss: 0.9085 - val_accuracy: 0.8081\n",
      "Epoch 30/40\n",
      "625/625 [==============================] - 41s 66ms/step - loss: 0.5445 - accuracy: 0.8607 - val_loss: 0.9303 - val_accuracy: 0.8009\n",
      "Epoch 31/40\n",
      "625/625 [==============================] - 41s 66ms/step - loss: 0.5389 - accuracy: 0.8636 - val_loss: 0.6756 - val_accuracy: 0.8514\n",
      "Epoch 32/40\n",
      "625/625 [==============================] - 41s 65ms/step - loss: 0.5332 - accuracy: 0.8660 - val_loss: 0.6596 - val_accuracy: 0.8506\n",
      "Epoch 33/40\n",
      "625/625 [==============================] - 42s 67ms/step - loss: 0.5354 - accuracy: 0.8647 - val_loss: 0.6499 - val_accuracy: 0.8626\n",
      "Epoch 34/40\n",
      "625/625 [==============================] - 41s 66ms/step - loss: 0.5271 - accuracy: 0.8680 - val_loss: 0.5012 - val_accuracy: 0.8470\n",
      "Epoch 35/40\n",
      "625/625 [==============================] - 41s 66ms/step - loss: 0.5284 - accuracy: 0.8689 - val_loss: 0.8044 - val_accuracy: 0.8303\n",
      "Epoch 36/40\n",
      "625/625 [==============================] - 41s 66ms/step - loss: 0.5263 - accuracy: 0.8657 - val_loss: 0.5434 - val_accuracy: 0.8562\n",
      "Epoch 37/40\n",
      "625/625 [==============================] - 41s 66ms/step - loss: 0.5165 - accuracy: 0.8712 - val_loss: 0.3333 - val_accuracy: 0.8571\n",
      "Epoch 38/40\n",
      "625/625 [==============================] - 42s 67ms/step - loss: 0.5182 - accuracy: 0.8705 - val_loss: 0.7374 - val_accuracy: 0.8447\n",
      "Epoch 39/40\n",
      "625/625 [==============================] - 41s 65ms/step - loss: 0.5179 - accuracy: 0.8693 - val_loss: 0.4899 - val_accuracy: 0.8415\n",
      "Epoch 40/40\n",
      "625/625 [==============================] - 41s 66ms/step - loss: 0.5146 - accuracy: 0.8715 - val_loss: 0.7460 - val_accuracy: 0.7869\n"
     ]
    }
   ],
   "source": [
    "from keras import optimizers\n",
    "from keras.preprocessing.image import ImageDataGenerator\n",
    "\n",
    "gen = ImageDataGenerator(rotation_range=15, \n",
    "                         width_shift_range=0.1,  \n",
    "                         height_shift_range=0.1,\n",
    "                         shear_range=0.3,\n",
    "                         zoom_range=0.1, \n",
    "                         horizontal_flip=True)\n",
    "gen.fit(x_tr)\n",
    "train_generator = gen.flow(x_tr, y_tr, batch_size=64)\n",
    "test_generator = ImageDataGenerator().flow(x_val, y_val, batch_size=64)\n",
    "\n",
    "model.compile(loss='categorical_crossentropy',\n",
    "              optimizer=optimizers.RMSprop(lr=0.001, decay=1e-6),\n",
    "              metrics=['accuracy'])\n",
    "\n",
    "history = model.fit_generator(train_generator, steps_per_epoch=40000//64, epochs=40, validation_data=test_generator, validation_steps=10000//64)"
   ]
  },
  {
   "cell_type": "code",
   "execution_count": 7,
   "metadata": {},
   "outputs": [
    {
     "data": {
      "image/png": "[encoded data removed]",
      "text/plain": [
       "<Figure size 432x288 with 1 Axes>"
      ]
     },
     "metadata": {
      "needs_background": "light"
     },
     "output_type": "display_data"
    }
   ],
   "source": [
    "import matplotlib.pyplot as plt\n",
    "\n",
    "acc = history.history['accuracy']\n",
    "val_acc = history.history['val_accuracy']\n",
    "epochs = range(len(acc))\n",
    "\n",
    "plt.plot(epochs, acc, 'bo', label='Training acc')\n",
    "plt.plot(epochs, val_acc, 'r', label='Validation acc')\n",
    "plt.xlabel('Epochs')\n",
    "plt.ylabel('Accuracy')\n",
    "plt.legend()\n",
    "plt.show()"
   ]
  },
  {
   "cell_type": "markdown",
   "metadata": {},
   "source": [
    "## 3. Train (again) and evaluate the model\n",
    "\n",
    "- To this end, you have found the \"best\" hyper-parameters. \n",
    "- Now, fix the hyper-parameters and train the network on the entire training set (all the 50K training samples)\n",
    "- Evaluate your model on the test set."
   ]
  },
  {
   "cell_type": "markdown",
   "metadata": {},
   "source": [
    "### 3.1. Train the model on the entire training set"
   ]
  },
  {
   "cell_type": "code",
   "execution_count": 8,
   "metadata": {},
   "outputs": [
    {
     "name": "stdout",
     "output_type": "stream",
     "text": [
      "Epoch 1/40\n",
      "781/781 [==============================] - 50s 64ms/step - loss: 0.5427 - accuracy: 0.8636\n",
      "Epoch 2/40\n",
      "781/781 [==============================] - 48s 62ms/step - loss: 0.5398 - accuracy: 0.8660\n",
      "Epoch 3/40\n",
      "781/781 [==============================] - 48s 62ms/step - loss: 0.5307 - accuracy: 0.8705\n",
      "Epoch 4/40\n",
      "781/781 [==============================] - 48s 62ms/step - loss: 0.5304 - accuracy: 0.8688\n",
      "Epoch 5/40\n",
      "781/781 [==============================] - 48s 62ms/step - loss: 0.5257 - accuracy: 0.8711\n",
      "Epoch 6/40\n",
      "781/781 [==============================] - 48s 62ms/step - loss: 0.5237 - accuracy: 0.8723\n",
      "Epoch 7/40\n",
      "781/781 [==============================] - 48s 62ms/step - loss: 0.5182 - accuracy: 0.8744\n",
      "Epoch 8/40\n",
      "781/781 [==============================] - 48s 62ms/step - loss: 0.5202 - accuracy: 0.8734\n",
      "Epoch 9/40\n",
      "781/781 [==============================] - 48s 62ms/step - loss: 0.5148 - accuracy: 0.8768\n",
      "Epoch 10/40\n",
      "781/781 [==============================] - 48s 62ms/step - loss: 0.5113 - accuracy: 0.8746\n",
      "Epoch 11/40\n",
      "781/781 [==============================] - 48s 62ms/step - loss: 0.5139 - accuracy: 0.8755\n",
      "Epoch 12/40\n",
      "781/781 [==============================] - 48s 62ms/step - loss: 0.5090 - accuracy: 0.8770\n",
      "Epoch 13/40\n",
      "781/781 [==============================] - 49s 62ms/step - loss: 0.5053 - accuracy: 0.8781\n",
      "Epoch 14/40\n",
      "781/781 [==============================] - 48s 61ms/step - loss: 0.5030 - accuracy: 0.8791\n",
      "Epoch 15/40\n",
      "781/781 [==============================] - 48s 62ms/step - loss: 0.5033 - accuracy: 0.8793\n",
      "Epoch 16/40\n",
      "781/781 [==============================] - 48s 61ms/step - loss: 0.4951 - accuracy: 0.8823\n",
      "Epoch 17/40\n",
      "781/781 [==============================] - 48s 62ms/step - loss: 0.4998 - accuracy: 0.8808\n",
      "Epoch 18/40\n",
      "781/781 [==============================] - 48s 62ms/step - loss: 0.4981 - accuracy: 0.8808\n",
      "Epoch 19/40\n",
      "781/781 [==============================] - 48s 61ms/step - loss: 0.4932 - accuracy: 0.8819\n",
      "Epoch 20/40\n",
      "781/781 [==============================] - 48s 61ms/step - loss: 0.4919 - accuracy: 0.8841\n",
      "Epoch 21/40\n",
      "781/781 [==============================] - 48s 62ms/step - loss: 0.4946 - accuracy: 0.8831\n",
      "Epoch 22/40\n",
      "781/781 [==============================] - 48s 62ms/step - loss: 0.4894 - accuracy: 0.8853\n",
      "Epoch 23/40\n",
      "781/781 [==============================] - 48s 62ms/step - loss: 0.4914 - accuracy: 0.8823\n",
      "Epoch 24/40\n",
      "781/781 [==============================] - 49s 63ms/step - loss: 0.4889 - accuracy: 0.8849\n",
      "Epoch 25/40\n",
      "781/781 [==============================] - 49s 63ms/step - loss: 0.4861 - accuracy: 0.8865\n",
      "Epoch 26/40\n",
      "781/781 [==============================] - 50s 65ms/step - loss: 0.4828 - accuracy: 0.8880\n",
      "Epoch 27/40\n",
      "781/781 [==============================] - 50s 64ms/step - loss: 0.4832 - accuracy: 0.8882\n",
      "Epoch 28/40\n",
      "781/781 [==============================] - 50s 64ms/step - loss: 0.4850 - accuracy: 0.8883\n",
      "Epoch 29/40\n",
      "781/781 [==============================] - 50s 64ms/step - loss: 0.4846 - accuracy: 0.8866\n",
      "Epoch 30/40\n",
      "781/781 [==============================] - 50s 64ms/step - loss: 0.4802 - accuracy: 0.8864\n",
      "Epoch 31/40\n",
      "781/781 [==============================] - 49s 63ms/step - loss: 0.4797 - accuracy: 0.8888\n",
      "Epoch 32/40\n",
      "781/781 [==============================] - 49s 63ms/step - loss: 0.4762 - accuracy: 0.8892\n",
      "Epoch 33/40\n",
      "781/781 [==============================] - 49s 63ms/step - loss: 0.4774 - accuracy: 0.8888\n",
      "Epoch 34/40\n",
      "781/781 [==============================] - 49s 62ms/step - loss: 0.4815 - accuracy: 0.8888\n",
      "Epoch 35/40\n",
      "781/781 [==============================] - 49s 62ms/step - loss: 0.4749 - accuracy: 0.8891\n",
      "Epoch 36/40\n",
      "781/781 [==============================] - 49s 63ms/step - loss: 0.4715 - accuracy: 0.8911\n",
      "Epoch 37/40\n",
      "781/781 [==============================] - 49s 63ms/step - loss: 0.4723 - accuracy: 0.8914\n",
      "Epoch 38/40\n",
      "781/781 [==============================] - 49s 62ms/step - loss: 0.4759 - accuracy: 0.8886\n",
      "Epoch 39/40\n",
      "781/781 [==============================] - 49s 63ms/step - loss: 0.4718 - accuracy: 0.8919\n",
      "Epoch 40/40\n",
      "781/781 [==============================] - 49s 62ms/step - loss: 0.4684 - accuracy: 0.8912\n"
     ]
    }
   ],
   "source": [
    "gen = ImageDataGenerator(rotation_range=15, \n",
    "                         width_shift_range=0.1,  \n",
    "                         height_shift_range=0.1,\n",
    "                         shear_range=0.3,\n",
    "                         zoom_range=0.1, \n",
    "                         horizontal_flip=True)\n",
    "gen.fit(x_train)\n",
    "train_generator = gen.flow(x_train, y_train_vec, batch_size=64)\n",
    "\n",
    "model.compile(loss='categorical_crossentropy',\n",
    "              optimizer=optimizers.RMSprop(lr=0.001, decay=1e-6),\n",
    "              metrics=['accuracy'])\n",
    "\n",
    "history = model.fit_generator(train_generator, steps_per_epoch=50000//64, epochs=40)"
   ]
  },
  {
   "cell_type": "markdown",
   "metadata": {},
   "source": [
    "### 3.2. Evaluate the model on the test set\n",
    "\n",
    "Do NOT used the test set until now. Make sure that your model parameters and hyper-parameters are independent of the test set."
   ]
  },
  {
   "cell_type": "code",
   "execution_count": 9,
   "metadata": {},
   "outputs": [
    {
     "name": "stdout",
     "output_type": "stream",
     "text": [
      "10000/10000 [==============================] - 4s 363us/step\n",
      "loss = 0.5003511307239532\n",
      "accuracy = 0.8827000260353088\n"
     ]
    }
   ],
   "source": [
    "loss_and_acc = model.evaluate(x_test, y_test_vec)\n",
    "print('loss = ' + str(loss_and_acc[0]))\n",
    "print('accuracy = ' + str(loss_and_acc[1]))"
   ]
  }
 ],
 "metadata": {
  "kernel_info": {
   "name": "python3"
  },
  "kernelspec": {
   "display_name": "Python 3",
   "language": "python",
   "name": "python3"
  },
  "language_info": {
   "codemirror_mode": {
    "name": "ipython",
    "version": 3
   },
   "file_extension": ".py",
   "mimetype": "text/x-python",
   "name": "python",
   "nbconvert_exporter": "python",
   "pygments_lexer": "ipython3",
   "version": "3.6.9"
  },
  "nteract": {
   "version": "nteract-front-end@1.0.0"
  }
 },
 "nbformat": 4,
 "nbformat_minor": 2
}
