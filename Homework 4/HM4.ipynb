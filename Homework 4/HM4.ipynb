{
 "cells": [
  {
   "cell_type": "markdown",
   "metadata": {},
   "source": [
    "# Homework 4: Build a CNN for Image Recognition\n",
    "\n",
    "### Name: Tyler Bryk\n"
   ]
  },
  {
   "cell_type": "markdown",
   "metadata": {},
   "source": [
    "## 1. Data Preparation\n",
    "\n",
    "### 1.1. Load data"
   ]
  },
  {
   "cell_type": "code",
   "execution_count": 1,
   "metadata": {},
   "outputs": [
    {
     "name": "stderr",
     "output_type": "stream",
     "text": [
      "Using TensorFlow backend.\n"
     ]
    },
    {
     "name": "stdout",
     "output_type": "stream",
     "text": [
      "shape of x_train: (50000, 32, 32, 3)\n",
      "shape of y_train: (50000, 1)\n",
      "shape of x_test: (10000, 32, 32, 3)\n",
      "shape of y_test: (10000, 1)\n",
      "number of classes: 10\n"
     ]
    }
   ],
   "source": [
    "from keras.datasets import cifar10\n",
    "import numpy\n",
    "\n",
    "(x_train, y_train), (x_test, y_test) = cifar10.load_data()\n",
    "\n",
    "print('shape of x_train: ' + str(x_train.shape))\n",
    "print('shape of y_train: ' + str(y_train.shape))\n",
    "print('shape of x_test: ' + str(x_test.shape))\n",
    "print('shape of y_test: ' + str(y_test.shape))\n",
    "print('number of classes: ' + str(numpy.max(y_train) - numpy.min(y_train) + 1))"
   ]
  },
  {
   "cell_type": "markdown",
   "metadata": {},
   "source": [
    "### 1.2. One-hot encode the labels\n",
    "\n",
    "In the input, a label is a scalar in $\\{0, 1, \\cdots , 9\\}$. One-hot encode transform such a scalar to a $10$-dim vector. E.g., a scalar ```y_train[j]=3``` is transformed to the vector ```y_train_vec[j]=[0, 0, 0, 1, 0, 0, 0, 0, 0, 0]```.\n",
    "\n",
    "1. Define a function ```to_one_hot``` that transforms an $n\\times 1$ array to a $n\\times 10$ matrix.\n",
    "\n",
    "2. Apply the function to ```y_train``` and ```y_test```."
   ]
  },
  {
   "cell_type": "code",
   "execution_count": 2,
   "metadata": {},
   "outputs": [
    {
     "name": "stdout",
     "output_type": "stream",
     "text": [
      "Shape of y_train_vec: (50000, 10)\n",
      "Shape of y_test_vec: (10000, 10)\n",
      "[6]\n",
      "[0. 0. 0. 0. 0. 0. 1. 0. 0. 0.]\n"
     ]
    }
   ],
   "source": [
    "def to_one_hot(y, num_class=10):\n",
    "    results = numpy.zeros((len(y), num_class))\n",
    "    for i, label in enumerate(y):\n",
    "        results[i, label] = 1.\n",
    "    return results\n",
    "\n",
    "y_train_vec = to_one_hot(y_train)\n",
    "y_test_vec = to_one_hot(y_test)\n",
    "\n",
    "print('Shape of y_train_vec: ' + str(y_train_vec.shape))\n",
    "print('Shape of y_test_vec: ' + str(y_test_vec.shape))\n",
    "\n",
    "print(y_train[0])\n",
    "print(y_train_vec[0])"
   ]
  },
  {
   "cell_type": "code",
   "execution_count": 3,
   "metadata": {},
   "outputs": [],
   "source": [
    "# Convert Image Data to Float-32\n",
    "x_train = x_train.astype('float32')\n",
    "x_test = x_test.astype('float32')\n",
    "\n",
    "# Standardize Data with Z-scores\n",
    "mean = numpy.mean(x_train, axis=(0,1,2,3))\n",
    "std  = numpy.std(x_train, axis=(0,1,2,3))\n",
    "x_train = (x_train - mean) / (std + 1e-7)\n",
    "x_test  = (x_test - mean) / (std + 1e-7)"
   ]
  },
  {
   "cell_type": "markdown",
   "metadata": {},
   "source": [
    "### 1.3. Randomly partition the training set to training and validation sets\n",
    "\n",
    "Randomly partition the 50K training samples to 2 sets:\n",
    "* a training set containing 40K samples\n",
    "* a validation set containing 10K samples\n"
   ]
  },
  {
   "cell_type": "code",
   "execution_count": 4,
   "metadata": {},
   "outputs": [
    {
     "name": "stdout",
     "output_type": "stream",
     "text": [
      "Shape of x_tr: (40000, 32, 32, 3)\n",
      "Shape of y_tr: (40000, 10)\n",
      "Shape of x_val: (10000, 32, 32, 3)\n",
      "Shape of y_val: (10000, 10)\n"
     ]
    }
   ],
   "source": [
    "rand_indices = numpy.random.permutation(50000)\n",
    "train_indices = rand_indices[0:40000]\n",
    "valid_indices = rand_indices[40000:50000]\n",
    "\n",
    "x_val = x_train[valid_indices, :]\n",
    "y_val = y_train_vec[valid_indices, :]\n",
    "\n",
    "x_tr = x_train[train_indices, :]\n",
    "y_tr = y_train_vec[train_indices, :]\n",
    "\n",
    "print('Shape of x_tr: ' + str(x_tr.shape))\n",
    "print('Shape of y_tr: ' + str(y_tr.shape))\n",
    "print('Shape of x_val: ' + str(x_val.shape))\n",
    "print('Shape of y_val: ' + str(y_val.shape))"
   ]
  },
  {
   "cell_type": "markdown",
   "metadata": {},
   "source": [
    "## 2. Build a CNN and tune its hyper-parameters\n",
    "\n",
    "1. Build a convolutional neural network model\n",
    "2. Use the validation data to tune the hyper-parameters (e.g., network structure, and optimization algorithm)\n",
    "    * Do NOT use test data for hyper-parameter tuning!!!\n",
    "3. Try to achieve a validation accuracy as high as possible."
   ]
  },
  {
   "cell_type": "code",
   "execution_count": 5,
   "metadata": {},
   "outputs": [
    {
     "name": "stdout",
     "output_type": "stream",
     "text": [
      "Model: \"sequential_1\"\n",
      "_________________________________________________________________\n",
      "Layer (type)                 Output Shape              Param #   \n",
      "=================================================================\n",
      "conv2d_1 (Conv2D)            (None, 32, 32, 32)        896       \n",
      "_________________________________________________________________\n",
      "batch_normalization_1 (Batch (None, 32, 32, 32)        128       \n",
      "_________________________________________________________________\n",
      "conv2d_2 (Conv2D)            (None, 32, 32, 32)        9248      \n",
      "_________________________________________________________________\n",
      "batch_normalization_2 (Batch (None, 32, 32, 32)        128       \n",
      "_________________________________________________________________\n",
      "max_pooling2d_1 (MaxPooling2 (None, 16, 16, 32)        0         \n",
      "_________________________________________________________________\n",
      "dropout_1 (Dropout)          (None, 16, 16, 32)        0         \n",
      "_________________________________________________________________\n",
      "conv2d_3 (Conv2D)            (None, 16, 16, 64)        18496     \n",
      "_________________________________________________________________\n",
      "batch_normalization_3 (Batch (None, 16, 16, 64)        256       \n",
      "_________________________________________________________________\n",
      "conv2d_4 (Conv2D)            (None, 16, 16, 64)        36928     \n",
      "_________________________________________________________________\n",
      "batch_normalization_4 (Batch (None, 16, 16, 64)        256       \n",
      "_________________________________________________________________\n",
      "max_pooling2d_2 (MaxPooling2 (None, 8, 8, 64)          0         \n",
      "_________________________________________________________________\n",
      "dropout_2 (Dropout)          (None, 8, 8, 64)          0         \n",
      "_________________________________________________________________\n",
      "conv2d_5 (Conv2D)            (None, 8, 8, 128)         73856     \n",
      "_________________________________________________________________\n",
      "batch_normalization_5 (Batch (None, 8, 8, 128)         512       \n",
      "_________________________________________________________________\n",
      "conv2d_6 (Conv2D)            (None, 8, 8, 128)         147584    \n",
      "_________________________________________________________________\n",
      "batch_normalization_6 (Batch (None, 8, 8, 128)         512       \n",
      "_________________________________________________________________\n",
      "max_pooling2d_3 (MaxPooling2 (None, 4, 4, 128)         0         \n",
      "_________________________________________________________________\n",
      "flatten_1 (Flatten)          (None, 2048)              0         \n",
      "_________________________________________________________________\n",
      "dense_1 (Dense)              (None, 512)               1049088   \n",
      "_________________________________________________________________\n",
      "batch_normalization_7 (Batch (None, 512)               2048      \n",
      "_________________________________________________________________\n",
      "activation_1 (Activation)    (None, 512)               0         \n",
      "_________________________________________________________________\n",
      "dropout_3 (Dropout)          (None, 512)               0         \n",
      "_________________________________________________________________\n",
      "dense_2 (Dense)              (None, 10)                5130      \n",
      "_________________________________________________________________\n",
      "batch_normalization_8 (Batch (None, 10)                40        \n",
      "_________________________________________________________________\n",
      "activation_2 (Activation)    (None, 10)                0         \n",
      "=================================================================\n",
      "Total params: 1,345,106\n",
      "Trainable params: 1,343,166\n",
      "Non-trainable params: 1,940\n",
      "_________________________________________________________________\n"
     ]
    }
   ],
   "source": [
    "from keras.layers import Conv2D, MaxPooling2D, Flatten, Dense, Dropout, Activation\n",
    "from keras.layers.normalization import BatchNormalization\n",
    "from keras.models import Sequential\n",
    "from keras.regularizers import l2\n",
    "\n",
    "model = Sequential()\n",
    "model.add(Conv2D(32, (3,3), padding='same', kernel_regularizer=l2(1e-4), activation=\"relu\", input_shape=(32,32,3)))\n",
    "model.add(BatchNormalization())\n",
    "model.add(Conv2D(32, (3,3), padding='same', kernel_regularizer=l2(1e-4), activation=\"relu\"))\n",
    "model.add(BatchNormalization())\n",
    "model.add(MaxPooling2D(pool_size=(2,2)))\n",
    "\n",
    "model.add(Dropout(0.2))\n",
    "model.add(Conv2D(64, (3,3), padding='same', kernel_regularizer=l2(1e-4), activation=\"relu\"))\n",
    "model.add(BatchNormalization())\n",
    "model.add(Conv2D(64, (3,3), padding='same', kernel_regularizer=l2(1e-4), activation=\"relu\"))\n",
    "model.add(BatchNormalization())\n",
    "model.add(MaxPooling2D(pool_size=(2,2)))\n",
    "\n",
    "model.add(Dropout(0.3))\n",
    "model.add(Conv2D(128, (3,3), padding='same', kernel_regularizer=l2(1e-4), activation=\"relu\"))\n",
    "model.add(BatchNormalization())\n",
    "model.add(Conv2D(128, (3,3), padding='same', kernel_regularizer=l2(1e-4), activation=\"relu\"))\n",
    "model.add(BatchNormalization())\n",
    "model.add(MaxPooling2D(pool_size=(2,2)))\n",
    "\n",
    "model.add(Flatten())\n",
    "model.add(Dense(512))\n",
    "model.add(BatchNormalization())\n",
    "model.add(Activation('relu'))\n",
    "model.add(Dropout(0.4))\n",
    "model.add(Dense(10))\n",
    "model.add(BatchNormalization())\n",
    "model.add(Activation('softmax'))\n",
    "\n",
    "\n",
    "model.summary()"
   ]
  },
  {
   "cell_type": "code",
   "execution_count": 6,
   "metadata": {},
   "outputs": [
    {
     "name": "stdout",
     "output_type": "stream",
     "text": [
      "Epoch 1/40\n",
      "625/625 [==============================] - 43s 69ms/step - loss: 1.4541 - accuracy: 0.5121 - val_loss: 0.9724 - val_accuracy: 0.6383\n",
      "Epoch 2/40\n",
      "625/625 [==============================] - 42s 67ms/step - loss: 1.1017 - accuracy: 0.6489 - val_loss: 0.8180 - val_accuracy: 0.7078\n",
      "Epoch 3/40\n",
      "625/625 [==============================] - 43s 69ms/step - loss: 0.9649 - accuracy: 0.6999 - val_loss: 1.0764 - val_accuracy: 0.7241\n",
      "Epoch 4/40\n",
      "625/625 [==============================] - 41s 66ms/step - loss: 0.8882 - accuracy: 0.7270 - val_loss: 0.7428 - val_accuracy: 0.7729\n",
      "Epoch 5/40\n",
      "625/625 [==============================] - 42s 67ms/step - loss: 0.8387 - accuracy: 0.7444 - val_loss: 0.8329 - val_accuracy: 0.7653\n",
      "Epoch 6/40\n",
      "625/625 [==============================] - 42s 67ms/step - loss: 0.8049 - accuracy: 0.7580 - val_loss: 0.8565 - val_accuracy: 0.7665\n",
      "Epoch 7/40\n",
      "625/625 [==============================] - 42s 67ms/step - loss: 0.7808 - accuracy: 0.7675 - val_loss: 0.7876 - val_accuracy: 0.7876\n",
      "Epoch 8/40\n",
      "625/625 [==============================] - 42s 67ms/step - loss: 0.7617 - accuracy: 0.7760 - val_loss: 0.7773 - val_accuracy: 0.8074\n",
      "Epoch 9/40\n",
      "625/625 [==============================] - 42s 66ms/step - loss: 0.7474 - accuracy: 0.7815 - val_loss: 0.8030 - val_accuracy: 0.8002\n",
      "Epoch 10/40\n",
      "625/625 [==============================] - 42s 66ms/step - loss: 0.7249 - accuracy: 0.7909 - val_loss: 0.5733 - val_accuracy: 0.8044\n",
      "Epoch 11/40\n",
      "625/625 [==============================] - 42s 66ms/step - loss: 0.7145 - accuracy: 0.7949 - val_loss: 0.4619 - val_accuracy: 0.8152\n",
      "Epoch 12/40\n",
      "625/625 [==============================] - 41s 66ms/step - loss: 0.7036 - accuracy: 0.7997 - val_loss: 0.4383 - val_accuracy: 0.8076\n",
      "Epoch 13/40\n",
      "625/625 [==============================] - 42s 67ms/step - loss: 0.6994 - accuracy: 0.8030 - val_loss: 0.5725 - val_accuracy: 0.8365\n",
      "Epoch 14/40\n",
      "625/625 [==============================] - 42s 66ms/step - loss: 0.6889 - accuracy: 0.8055 - val_loss: 0.4632 - val_accuracy: 0.8008\n",
      "Epoch 15/40\n",
      "625/625 [==============================] - 41s 66ms/step - loss: 0.6746 - accuracy: 0.8124 - val_loss: 0.5892 - val_accuracy: 0.8456\n",
      "Epoch 16/40\n",
      "625/625 [==============================] - 42s 67ms/step - loss: 0.6696 - accuracy: 0.8156 - val_loss: 0.5663 - val_accuracy: 0.8384\n",
      "Epoch 17/40\n",
      "625/625 [==============================] - 41s 66ms/step - loss: 0.6704 - accuracy: 0.8146 - val_loss: 0.4523 - val_accuracy: 0.8565\n",
      "Epoch 18/40\n",
      "625/625 [==============================] - 41s 66ms/step - loss: 0.6605 - accuracy: 0.8184 - val_loss: 0.6145 - val_accuracy: 0.8458\n",
      "Epoch 19/40\n",
      "625/625 [==============================] - 41s 66ms/step - loss: 0.6567 - accuracy: 0.8209 - val_loss: 0.6421 - val_accuracy: 0.8353\n",
      "Epoch 20/40\n",
      "625/625 [==============================] - 41s 66ms/step - loss: 0.6596 - accuracy: 0.8223 - val_loss: 0.3942 - val_accuracy: 0.8530\n",
      "Epoch 21/40\n",
      "625/625 [==============================] - 41s 66ms/step - loss: 0.6466 - accuracy: 0.8251 - val_loss: 0.6807 - val_accuracy: 0.8385\n",
      "Epoch 22/40\n",
      "625/625 [==============================] - 42s 66ms/step - loss: 0.6471 - accuracy: 0.8229 - val_loss: 0.5245 - val_accuracy: 0.8259\n",
      "Epoch 23/40\n",
      "625/625 [==============================] - 41s 66ms/step - loss: 0.6419 - accuracy: 0.8288 - val_loss: 0.8233 - val_accuracy: 0.8298\n",
      "Epoch 24/40\n",
      "625/625 [==============================] - 41s 66ms/step - loss: 0.6336 - accuracy: 0.8307 - val_loss: 0.4700 - val_accuracy: 0.8462\n",
      "Epoch 25/40\n",
      "625/625 [==============================] - 41s 66ms/step - loss: 0.6388 - accuracy: 0.8276 - val_loss: 0.5480 - val_accuracy: 0.8606\n",
      "Epoch 26/40\n",
      "625/625 [==============================] - 42s 67ms/step - loss: 0.6337 - accuracy: 0.8329 - val_loss: 0.6637 - val_accuracy: 0.8364\n",
      "Epoch 27/40\n",
      "625/625 [==============================] - 42s 67ms/step - loss: 0.6286 - accuracy: 0.8335 - val_loss: 0.5554 - val_accuracy: 0.8480\n",
      "Epoch 28/40\n",
      "625/625 [==============================] - 42s 66ms/step - loss: 0.6285 - accuracy: 0.8339 - val_loss: 0.5141 - val_accuracy: 0.8493\n",
      "Epoch 29/40\n",
      "625/625 [==============================] - 41s 66ms/step - loss: 0.6237 - accuracy: 0.8366 - val_loss: 0.8269 - val_accuracy: 0.8449\n",
      "Epoch 30/40\n",
      "625/625 [==============================] - 41s 66ms/step - loss: 0.6183 - accuracy: 0.8379 - val_loss: 0.6516 - val_accuracy: 0.8405\n",
      "Epoch 31/40\n",
      "625/625 [==============================] - 41s 66ms/step - loss: 0.6176 - accuracy: 0.8383 - val_loss: 0.5224 - val_accuracy: 0.8589\n",
      "Epoch 32/40\n",
      "625/625 [==============================] - 42s 67ms/step - loss: 0.6138 - accuracy: 0.8399 - val_loss: 0.9207 - val_accuracy: 0.8479\n",
      "Epoch 33/40\n",
      "625/625 [==============================] - 42s 67ms/step - loss: 0.6120 - accuracy: 0.8411 - val_loss: 0.4478 - val_accuracy: 0.8698\n",
      "Epoch 34/40\n",
      "625/625 [==============================] - 42s 67ms/step - loss: 0.6134 - accuracy: 0.8412 - val_loss: 0.5255 - val_accuracy: 0.8681\n",
      "Epoch 35/40\n",
      "625/625 [==============================] - 41s 66ms/step - loss: 0.6062 - accuracy: 0.8421 - val_loss: 0.6383 - val_accuracy: 0.8624\n",
      "Epoch 36/40\n",
      "625/625 [==============================] - 42s 67ms/step - loss: 0.6113 - accuracy: 0.8414 - val_loss: 0.4884 - val_accuracy: 0.8503\n",
      "Epoch 37/40\n",
      "625/625 [==============================] - 41s 66ms/step - loss: 0.6023 - accuracy: 0.8436 - val_loss: 0.5688 - val_accuracy: 0.8629\n",
      "Epoch 38/40\n",
      "625/625 [==============================] - 42s 67ms/step - loss: 0.5996 - accuracy: 0.8451 - val_loss: 0.5783 - val_accuracy: 0.8639\n",
      "Epoch 39/40\n",
      "625/625 [==============================] - 41s 66ms/step - loss: 0.5999 - accuracy: 0.8450 - val_loss: 0.3326 - val_accuracy: 0.8593\n",
      "Epoch 40/40\n",
      "625/625 [==============================] - 41s 66ms/step - loss: 0.5995 - accuracy: 0.8464 - val_loss: 0.5971 - val_accuracy: 0.8702\n"
     ]
    }
   ],
   "source": [
    "from keras import optimizers\n",
    "from keras.preprocessing.image import ImageDataGenerator\n",
    "\n",
    "gen = ImageDataGenerator(rotation_range=15, \n",
    "                         width_shift_range=0.1,  \n",
    "                         height_shift_range=0.1,\n",
    "                         shear_range=0.3,\n",
    "                         zoom_range=0.1, \n",
    "                         horizontal_flip=True)\n",
    "gen.fit(x_tr)\n",
    "train_generator = gen.flow(x_tr, y_tr, batch_size=64)\n",
    "test_generator = ImageDataGenerator().flow(x_val, y_val, batch_size=64)\n",
    "\n",
    "model.compile(loss='categorical_crossentropy',\n",
    "              optimizer=optimizers.RMSprop(lr=0.001, decay=1e-6),\n",
    "              metrics=['accuracy'])\n",
    "\n",
    "history = model.fit_generator(train_generator, steps_per_epoch=40000//64, epochs=40, validation_data=test_generator, validation_steps=10000//64)"
   ]
  },
  {
   "cell_type": "code",
   "execution_count": 7,
   "metadata": {},
   "outputs": [
    {
     "data": {
      "image/png": "[encoded data removed]",
      "text/plain": [
       "<Figure size 432x288 with 1 Axes>"
      ]
     },
     "metadata": {
      "needs_background": "light"
     },
     "output_type": "display_data"
    }
   ],
   "source": [
    "import matplotlib.pyplot as plt\n",
    "\n",
    "acc = history.history['accuracy']\n",
    "val_acc = history.history['val_accuracy']\n",
    "epochs = range(len(acc))\n",
    "\n",
    "plt.plot(epochs, acc, 'bo', label='Training acc')\n",
    "plt.plot(epochs, val_acc, 'r', label='Validation acc')\n",
    "plt.xlabel('Epochs')\n",
    "plt.ylabel('Accuracy')\n",
    "plt.legend()\n",
    "plt.show()"
   ]
  },
  {
   "cell_type": "markdown",
   "metadata": {},
   "source": [
    "## 3. Train (again) and evaluate the model\n",
    "\n",
    "- To this end, you have found the \"best\" hyper-parameters. \n",
    "- Now, fix the hyper-parameters and train the network on the entire training set (all the 50K training samples)\n",
    "- Evaluate your model on the test set."
   ]
  },
  {
   "cell_type": "markdown",
   "metadata": {},
   "source": [
    "### 3.1. Train the model on the entire training set"
   ]
  },
  {
   "cell_type": "code",
   "execution_count": 8,
   "metadata": {},
   "outputs": [
    {
     "name": "stdout",
     "output_type": "stream",
     "text": [
      "Epoch 1/40\n",
      "781/781 [==============================] - 52s 66ms/step - loss: 0.6239 - accuracy: 0.8400\n",
      "Epoch 2/40\n",
      "781/781 [==============================] - 50s 64ms/step - loss: 0.6187 - accuracy: 0.8405\n",
      "Epoch 3/40\n",
      "781/781 [==============================] - 50s 64ms/step - loss: 0.6162 - accuracy: 0.8402\n",
      "Epoch 4/40\n",
      "781/781 [==============================] - 50s 65ms/step - loss: 0.6115 - accuracy: 0.8442\n",
      "Epoch 5/40\n",
      "781/781 [==============================] - 51s 65ms/step - loss: 0.6103 - accuracy: 0.8436\n",
      "Epoch 6/40\n",
      "781/781 [==============================] - 51s 66ms/step - loss: 0.6114 - accuracy: 0.8461\n",
      "Epoch 7/40\n",
      "781/781 [==============================] - 49s 63ms/step - loss: 0.6091 - accuracy: 0.8450\n",
      "Epoch 8/40\n",
      "781/781 [==============================] - 50s 64ms/step - loss: 0.6091 - accuracy: 0.8459\n",
      "Epoch 9/40\n",
      "781/781 [==============================] - 50s 65ms/step - loss: 0.5970 - accuracy: 0.8490\n",
      "Epoch 10/40\n",
      "781/781 [==============================] - 50s 64ms/step - loss: 0.6001 - accuracy: 0.8487\n",
      "Epoch 11/40\n",
      "781/781 [==============================] - 50s 64ms/step - loss: 0.5925 - accuracy: 0.8507\n",
      "Epoch 12/40\n",
      "781/781 [==============================] - 50s 64ms/step - loss: 0.5953 - accuracy: 0.8490\n",
      "Epoch 13/40\n",
      "781/781 [==============================] - 50s 64ms/step - loss: 0.6024 - accuracy: 0.8488\n",
      "Epoch 14/40\n",
      "781/781 [==============================] - 50s 64ms/step - loss: 0.5903 - accuracy: 0.8526\n",
      "Epoch 16/40\n",
      "781/781 [==============================] - 50s 65ms/step - loss: 0.5881 - accuracy: 0.8502\n",
      "Epoch 17/40\n",
      "781/781 [==============================] - 50s 64ms/step - loss: 0.5884 - accuracy: 0.8532\n",
      "Epoch 18/40\n",
      "781/781 [==============================] - 50s 64ms/step - loss: 0.5894 - accuracy: 0.8510\n",
      "Epoch 19/40\n",
      "781/781 [==============================] - 50s 64ms/step - loss: 0.5878 - accuracy: 0.8525\n",
      "Epoch 20/40\n",
      "781/781 [==============================] - 50s 64ms/step - loss: 0.5820 - accuracy: 0.8562\n",
      "Epoch 21/40\n",
      "781/781 [==============================] - 50s 64ms/step - loss: 0.5816 - accuracy: 0.8553\n",
      "Epoch 22/40\n",
      "781/781 [==============================] - 49s 63ms/step - loss: 0.5809 - accuracy: 0.8536\n",
      "Epoch 23/40\n",
      "781/781 [==============================] - 50s 64ms/step - loss: 0.5758 - accuracy: 0.8572\n",
      "Epoch 24/40\n",
      "781/781 [==============================] - 51s 65ms/step - loss: 0.5781 - accuracy: 0.8570\n",
      "Epoch 25/40\n",
      "781/781 [==============================] - 51s 65ms/step - loss: 0.5774 - accuracy: 0.8577\n",
      "Epoch 26/40\n",
      "781/781 [==============================] - 50s 65ms/step - loss: 0.5763 - accuracy: 0.8565\n",
      "Epoch 27/40\n",
      "781/781 [==============================] - 52s 66ms/step - loss: 0.5779 - accuracy: 0.8545\n",
      "Epoch 28/40\n",
      "781/781 [==============================] - 51s 65ms/step - loss: 0.5732 - accuracy: 0.8571\n",
      "Epoch 29/40\n",
      "781/781 [==============================] - 51s 65ms/step - loss: 0.5716 - accuracy: 0.8584\n",
      "Epoch 30/40\n",
      "781/781 [==============================] - 51s 65ms/step - loss: 0.5717 - accuracy: 0.8595\n",
      "Epoch 31/40\n",
      "781/781 [==============================] - 52s 66ms/step - loss: 0.5751 - accuracy: 0.8562\n",
      "Epoch 32/40\n",
      "781/781 [==============================] - 50s 65ms/step - loss: 0.5688 - accuracy: 0.8597\n",
      "Epoch 33/40\n",
      "781/781 [==============================] - 50s 65ms/step - loss: 0.5725 - accuracy: 0.8584\n",
      "Epoch 34/40\n",
      "781/781 [==============================] - 50s 65ms/step - loss: 0.5654 - accuracy: 0.8603\n",
      "Epoch 35/40\n",
      "781/781 [==============================] - 50s 64ms/step - loss: 0.5666 - accuracy: 0.8605\n",
      "Epoch 36/40\n",
      "781/781 [==============================] - 50s 64ms/step - loss: 0.5637 - accuracy: 0.8594\n",
      "Epoch 37/40\n",
      "781/781 [==============================] - 50s 64ms/step - loss: 0.5649 - accuracy: 0.8613\n",
      "Epoch 38/40\n",
      "781/781 [==============================] - 50s 64ms/step - loss: 0.5677 - accuracy: 0.8599\n",
      "Epoch 39/40\n",
      "781/781 [==============================] - 51s 65ms/step - loss: 0.5699 - accuracy: 0.8599\n",
      "Epoch 40/40\n",
      "781/781 [==============================] - 50s 64ms/step - loss: 0.5618 - accuracy: 0.8635\n"
     ]
    }
   ],
   "source": [
    "gen = ImageDataGenerator(rotation_range=15, \n",
    "                         width_shift_range=0.1,  \n",
    "                         height_shift_range=0.1,\n",
    "                         shear_range=0.3,\n",
    "                         zoom_range=0.1, \n",
    "                         horizontal_flip=True)\n",
    "gen.fit(x_train)\n",
    "train_generator = gen.flow(x_train, y_train_vec, batch_size=64)\n",
    "\n",
    "model.compile(loss='categorical_crossentropy',\n",
    "              optimizer=optimizers.RMSprop(lr=0.001, decay=1e-6),\n",
    "              metrics=['accuracy'])\n",
    "\n",
    "history = model.fit_generator(train_generator, steps_per_epoch=50000//64, epochs=40)"
   ]
  },
  {
   "cell_type": "markdown",
   "metadata": {},
   "source": [
    "### 3.2. Evaluate the model on the test set\n",
    "\n",
    "Do NOT used the test set until now. Make sure that your model parameters and hyper-parameters are independent of the test set."
   ]
  },
  {
   "cell_type": "code",
   "execution_count": 9,
   "metadata": {},
   "outputs": [
    {
     "name": "stdout",
     "output_type": "stream",
     "text": [
      "10000/10000 [==============================] - 3s 337us/step\n",
      "loss = 0.5686637101173401\n",
      "accuracy = 0.8659999966621399\n"
     ]
    }
   ],
   "source": [
    "loss_and_acc = model.evaluate(x_test, y_test_vec)\n",
    "print('loss = ' + str(loss_and_acc[0]))\n",
    "print('accuracy = ' + str(loss_and_acc[1]))"
   ]
  }
 ],
 "metadata": {
  "kernel_info": {
   "name": "python3"
  },
  "kernelspec": {
   "display_name": "Python 3",
   "language": "python",
   "name": "python3"
  },
  "language_info": {
   "codemirror_mode": {
    "name": "ipython",
    "version": 3
   },
   "file_extension": ".py",
   "mimetype": "text/x-python",
   "name": "python",
   "nbconvert_exporter": "python",
   "pygments_lexer": "ipython3",
   "version": "3.8.5"
  },
  "nteract": {
   "version": "nteract-front-end@1.0.0"
  }
 },
 "nbformat": 4,
 "nbformat_minor": 2
}
