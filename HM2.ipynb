{
 "cells": [
  {
   "cell_type": "markdown",
   "metadata": {},
   "source": [
    "# HM2: Numerical Optimization for Logistic Regression\n",
    "\n",
    "### Name: Tyler Bryk\n"
   ]
  },
  {
   "cell_type": "markdown",
   "metadata": {},
   "source": [
    "# 1. Data processing\n",
    "\n",
    "- Download the Diabete dataset from https://www.csie.ntu.edu.tw/~cjlin/libsvmtools/datasets/binary/diabetes\n",
    "- Load the data using sklearn.\n",
    "- Preprocess the data."
   ]
  },
  {
   "cell_type": "markdown",
   "metadata": {},
   "source": [
    "## 1.1. Load the data"
   ]
  },
  {
   "cell_type": "code",
   "execution_count": 1,
   "metadata": {},
   "outputs": [
    {
     "name": "stdout",
     "output_type": "stream",
     "text": [
      "Shape of x: (768, 8)\n",
      "Shape of y: (768,)\n"
     ]
    }
   ],
   "source": [
    "from sklearn import datasets\n",
    "import numpy\n",
    "\n",
    "x_sparse, y = datasets.load_svmlight_file('diabetes')\n",
    "x = x_sparse.todense()\n",
    "\n",
    "print('Shape of x: ' + str(x.shape))\n",
    "print('Shape of y: ' + str(y.shape))"
   ]
  },
  {
   "cell_type": "markdown",
   "metadata": {},
   "source": [
    "## 1.2. Partition to training and test sets"
   ]
  },
  {
   "cell_type": "code",
   "execution_count": 2,
   "metadata": {},
   "outputs": [
    {
     "name": "stdout",
     "output_type": "stream",
     "text": [
      "Shape of x_train: (640, 8)\n",
      "Shape of x_test: (128, 8)\n",
      "Shape of y_train: (640, 1)\n",
      "Shape of y_test: (128, 1)\n"
     ]
    }
   ],
   "source": [
    "# partition the data to training and test sets\n",
    "n = x.shape[0]\n",
    "n_train = 640\n",
    "n_test = n - n_train\n",
    "\n",
    "rand_indices = numpy.random.permutation(n)\n",
    "train_indices = rand_indices[0:n_train]\n",
    "test_indices = rand_indices[n_train:n]\n",
    "\n",
    "x_train = x[train_indices, :]\n",
    "x_test = x[test_indices, :]\n",
    "y_train = y[train_indices].reshape(n_train, 1)\n",
    "y_test = y[test_indices].reshape(n_test, 1)\n",
    "\n",
    "print('Shape of x_train: ' + str(x_train.shape))\n",
    "print('Shape of x_test: ' + str(x_test.shape))\n",
    "print('Shape of y_train: ' + str(y_train.shape))\n",
    "print('Shape of y_test: ' + str(y_test.shape))"
   ]
  },
  {
   "cell_type": "markdown",
   "metadata": {},
   "source": [
    "## 1.3. Feature scaling"
   ]
  },
  {
   "cell_type": "markdown",
   "metadata": {},
   "source": [
    "Use the standardization to transform both training and test features"
   ]
  },
  {
   "cell_type": "code",
   "execution_count": 3,
   "metadata": {},
   "outputs": [
    {
     "name": "stdout",
     "output_type": "stream",
     "text": [
      "test mean = \n",
      "[[ 0.1211044   0.17350322 -0.03622868  0.02772706  0.05980291  0.19231926\n",
      "   0.04332365  0.0571996 ]]\n",
      "test std = \n",
      "[[0.94691883 0.96496835 1.09757817 1.10109863 1.07872359 1.00997121\n",
      "  1.09632436 1.04333004]]\n"
     ]
    }
   ],
   "source": [
    "# Standardization\n",
    "\n",
    "# calculate mu and sig using the training set\n",
    "d = x_train.shape[1]\n",
    "mu = numpy.mean(x_train, axis=0).reshape(1, d)\n",
    "sig = numpy.std(x_train, axis=0).reshape(1, d)\n",
    "\n",
    "# transform the training features\n",
    "x_train = (x_train - mu) / (sig + 1E-6)\n",
    "\n",
    "# transform the test features\n",
    "x_test = (x_test - mu) / (sig + 1E-6)\n",
    "\n",
    "print('test mean = ')\n",
    "print(numpy.mean(x_test, axis=0))\n",
    "\n",
    "print('test std = ')\n",
    "print(numpy.std(x_test, axis=0))"
   ]
  },
  {
   "cell_type": "markdown",
   "metadata": {},
   "source": [
    "## 1.4. Add a dimension of all ones"
   ]
  },
  {
   "cell_type": "code",
   "execution_count": 4,
   "metadata": {},
   "outputs": [
    {
     "name": "stdout",
     "output_type": "stream",
     "text": [
      "Shape of x_train: (640, 9)\n",
      "Shape of x_test: (128, 9)\n"
     ]
    }
   ],
   "source": [
    "n_train, d = x_train.shape\n",
    "x_train = numpy.concatenate((x_train, numpy.ones((n_train, 1))), axis=1)\n",
    "\n",
    "n_test, d = x_test.shape\n",
    "x_test = numpy.concatenate((x_test, numpy.ones((n_test, 1))), axis=1)\n",
    "\n",
    "print('Shape of x_train: ' + str(x_train.shape))\n",
    "print('Shape of x_test: ' + str(x_test.shape))"
   ]
  },
  {
   "cell_type": "markdown",
   "metadata": {},
   "source": [
    "# 2. Logistic regression model\n",
    "\n",
    "The objective function is $Q (w; X, y) = \\frac{1}{n} \\sum_{i=1}^n \\log \\Big( 1 + \\exp \\big( - y_i x_i^T w \\big) \\Big) + \\frac{\\lambda}{2} \\| w \\|_2^2 $."
   ]
  },
  {
   "cell_type": "code",
   "execution_count": 5,
   "metadata": {},
   "outputs": [],
   "source": [
    "# Calculate the objective function value\n",
    "# Inputs:\n",
    "#     w: d-by-1 matrix\n",
    "#     x: n-by-d matrix\n",
    "#     y: n-by-1 matrix\n",
    "#     lam: scalar, the regularization parameter\n",
    "# Return:\n",
    "#     objective function value (scalar)\n",
    "def objective(w, x, y, lam):\n",
    "    n, d = x.shape\n",
    "    yx = numpy.multiply(y, x) # n-by-d matrix\n",
    "    yxw = numpy.dot(yx, w) # n-by-1 matrix\n",
    "    vec1 = numpy.exp(-yxw) # n-by-1 matrix\n",
    "    vec2 = numpy.log(1 + vec1) # n-by-1 matrix\n",
    "    loss = numpy.mean(vec2) # scalar\n",
    "    reg = lam / 2 * numpy.sum(w * w) # scalar\n",
    "    return loss + reg"
   ]
  },
  {
   "cell_type": "code",
   "execution_count": 6,
   "metadata": {},
   "outputs": [
    {
     "name": "stdout",
     "output_type": "stream",
     "text": [
      "Initial objective function value = 0.6931471805599453\n"
     ]
    }
   ],
   "source": [
    "# initialize w\n",
    "d = x_train.shape[1]\n",
    "w = numpy.zeros((d, 1))\n",
    "\n",
    "# evaluate the objective function value at w\n",
    "lam = 1E-6\n",
    "objval0 = objective(w, x_train, y_train, lam)\n",
    "print('Initial objective function value = ' + str(objval0))"
   ]
  },
  {
   "cell_type": "markdown",
   "metadata": {},
   "source": [
    "# 3. Numerical optimization"
   ]
  },
  {
   "cell_type": "markdown",
   "metadata": {},
   "source": [
    "## 3.1. Gradient descent\n"
   ]
  },
  {
   "cell_type": "markdown",
   "metadata": {},
   "source": [
    "The gradient at $w$ is $g = - \\frac{1}{n} \\sum_{i=1}^n \\frac{y_i x_i }{1 + \\exp ( y_i x_i^T w)} + \\lambda w$"
   ]
  },
  {
   "cell_type": "code",
   "execution_count": 7,
   "metadata": {},
   "outputs": [],
   "source": [
    "# Calculate the gradient\n",
    "# Inputs:\n",
    "#     w: d-by-1 matrix\n",
    "#     x: n-by-d matrix\n",
    "#     y: n-by-1 matrix\n",
    "#     lam: scalar, the regularization parameter\n",
    "# Return:\n",
    "#     g: g: d-by-1 matrix, full gradient\n",
    "def gradient(w, x, y, lam):\n",
    "    n, d = x.shape\n",
    "    yx = numpy.multiply(y, x) # n-by-d matrix\n",
    "    yxw = numpy.dot(yx, w) # n-by-1 matrix\n",
    "    vec1 = numpy.exp(yxw) # n-by-1 matrix\n",
    "    vec2 = numpy.divide(yx, 1+vec1) # n-by-d matrix\n",
    "    vec3 = -numpy.mean(vec2, axis=0).reshape(d, 1) # d-by-1 matrix\n",
    "    g = vec3 + lam * w\n",
    "    return g"
   ]
  },
  {
   "cell_type": "code",
   "execution_count": 8,
   "metadata": {},
   "outputs": [],
   "source": [
    "# Gradient descent for solving logistic regression\n",
    "# Inputs:\n",
    "#     x: n-by-d matrix\n",
    "#     y: n-by-1 matrix\n",
    "#     lam: scalar, the regularization parameter\n",
    "#     stepsize: scalar\n",
    "#     max_iter: integer, the maximal iterations\n",
    "#     w: d-by-1 matrix, initialization of w\n",
    "# Return:\n",
    "#     w: d-by-1 matrix, the solution\n",
    "#     objvals: a record of each iteration's objective value\n",
    "def grad_descent(x, y, lam, stepsize, max_iter=100, w=None):\n",
    "    n, d = x.shape\n",
    "    objvals = numpy.zeros(max_iter) # store the objective values\n",
    "    if w is None:\n",
    "        w = numpy.zeros((d, 1)) # zero initialization\n",
    "\n",
    "    for t in range(max_iter):\n",
    "        objval = objective(w, x, y, lam)\n",
    "        objvals[t] = objval\n",
    "        print('Objective value at t=' + str(t) + ' is ' + str(objval))\n",
    "        g = gradient(w, x, y, lam)\n",
    "        w -= stepsize * g\n",
    "    \n",
    "    return w, objvals"
   ]
  },
  {
   "cell_type": "markdown",
   "metadata": {},
   "source": [
    "Run gradient descent."
   ]
  },
  {
   "cell_type": "code",
   "execution_count": 9,
   "metadata": {},
   "outputs": [
    {
     "name": "stdout",
     "output_type": "stream",
     "text": [
      "Objective value at t=0 is 0.6931471805599453\n",
      "Objective value at t=1 is 0.5892603691483482\n",
      "Objective value at t=2 is 0.5456502661822553\n",
      "Objective value at t=3 is 0.5217322293599657\n",
      "Objective value at t=4 is 0.5066061666689897\n",
      "Objective value at t=5 is 0.4962610145863264\n",
      "Objective value at t=6 is 0.4888358689675136\n",
      "Objective value at t=7 is 0.48332927814685406\n",
      "Objective value at t=8 is 0.4791467719690855\n",
      "Objective value at t=9 is 0.4759108860684222\n",
      "Objective value at t=10 is 0.4733701021183642\n",
      "Objective value at t=11 is 0.4713506580138002\n",
      "Objective value at t=12 is 0.4697290703929209\n",
      "Objective value at t=13 is 0.46841555257241047\n",
      "Objective value at t=14 is 0.46734355836857777\n",
      "Objective value at t=15 is 0.4664629549784785\n",
      "Objective value at t=16 is 0.4657354368632265\n",
      "Objective value at t=17 is 0.46513137072818267\n",
      "Objective value at t=18 is 0.46462758014828054\n",
      "Objective value at t=19 is 0.46420576186388346\n",
      "Objective value at t=20 is 0.4638513354727398\n",
      "Objective value at t=21 is 0.46355259588811837\n",
      "Objective value at t=22 is 0.46330008074841\n",
      "Objective value at t=23 is 0.463086092679954\n",
      "Objective value at t=24 is 0.4629043346151231\n",
      "Objective value at t=25 is 0.4627496286656479\n",
      "Objective value at t=26 is 0.46261769744833464\n",
      "Objective value at t=27 is 0.4625049925782296\n",
      "Objective value at t=28 is 0.462408559129742\n",
      "Objective value at t=29 is 0.46232592777115894\n",
      "Objective value at t=30 is 0.46225502836766386\n",
      "Objective value at t=31 is 0.4621941203676361\n",
      "Objective value at t=32 is 0.46214173640348\n",
      "Objective value at t=33 is 0.46209663636636084\n",
      "Objective value at t=34 is 0.46205776983404123\n",
      "Objective value at t=35 is 0.46202424519886126\n",
      "Objective value at t=36 is 0.4619953041988679\n",
      "Objective value at t=37 is 0.4619703008279852\n",
      "Objective value at t=38 is 0.4619486838117946\n",
      "Objective value at t=39 is 0.46192998199924873\n",
      "Objective value at t=40 is 0.46191379214871225\n",
      "Objective value at t=41 is 0.46189976868750193\n",
      "Objective value at t=42 is 0.46188761510384213\n",
      "Objective value at t=43 is 0.46187707669357797\n",
      "Objective value at t=44 is 0.4618679344347144\n",
      "Objective value at t=45 is 0.46185999980358516\n",
      "Objective value at t=46 is 0.461853110379337\n",
      "Objective value at t=47 is 0.46184712611005324\n",
      "Objective value at t=48 is 0.46184192613552844\n",
      "Objective value at t=49 is 0.46183740607940504\n",
      "Objective value at t=50 is 0.46183347573790556\n",
      "Objective value at t=51 is 0.461830057104329\n",
      "Objective value at t=52 is 0.4618270826783391\n",
      "Objective value at t=53 is 0.4618244940172222\n",
      "Objective value at t=54 is 0.4618222404930705\n",
      "Objective value at t=55 is 0.4618202782254772\n",
      "Objective value at t=56 is 0.4618185691640399\n",
      "Objective value at t=57 is 0.4618170802989011\n",
      "Objective value at t=58 is 0.4618157829808601\n",
      "Objective value at t=59 is 0.4618146523353606\n",
      "Objective value at t=60 is 0.46181366675699953\n",
      "Objective value at t=61 is 0.46181280747317466\n",
      "Objective value at t=62 is 0.4618120581671524\n",
      "Objective value at t=63 is 0.4618114046522555\n",
      "Objective value at t=64 is 0.4618108345900646\n",
      "Objective value at t=65 is 0.46181033724654813\n",
      "Objective value at t=66 is 0.46180990328090005\n",
      "Objective value at t=67 is 0.4618095245626076\n",
      "Objective value at t=68 is 0.4618091940128964\n",
      "Objective value at t=69 is 0.46180890546724196\n",
      "Objective value at t=70 is 0.4618086535560988\n",
      "Objective value at t=71 is 0.4618084336013896\n",
      "Objective value at t=72 is 0.46180824152663863\n",
      "Objective value at t=73 is 0.4618080737789209\n",
      "Objective value at t=74 is 0.4618079272610517\n",
      "Objective value at t=75 is 0.4618077992726531\n",
      "Objective value at t=76 is 0.46180768745891926\n",
      "Objective value at t=77 is 0.46180758976606134\n",
      "Objective value at t=78 is 0.46180750440255164\n",
      "Objective value at t=79 is 0.4618074298054016\n",
      "Objective value at t=80 is 0.46180736461081395\n",
      "Objective value at t=81 is 0.4618073076286337\n",
      "Objective value at t=82 is 0.46180725782010296\n",
      "Objective value at t=83 is 0.4618072142784864\n",
      "Objective value at t=84 is 0.4618071762121958\n",
      "Objective value at t=85 is 0.46180714293008457\n",
      "Objective value at t=86 is 0.46180711382863526\n",
      "Objective value at t=87 is 0.46180708838079076\n",
      "Objective value at t=88 is 0.4618070661262182\n",
      "Objective value at t=89 is 0.46180704666282085\n",
      "Objective value at t=90 is 0.46180702963933534\n",
      "Objective value at t=91 is 0.46180701474887537\n",
      "Objective value at t=92 is 0.4618070017233003\n",
      "Objective value at t=93 is 0.46180699032830197\n",
      "Objective value at t=94 is 0.4618069803591177\n",
      "Objective value at t=95 is 0.4618069716367891\n",
      "Objective value at t=96 is 0.46180696400489735\n",
      "Objective value at t=97 is 0.46180695732671273\n",
      "Objective value at t=98 is 0.46180695148270745\n",
      "Objective value at t=99 is 0.46180694636838227\n"
     ]
    }
   ],
   "source": [
    "lam = 1E-6\n",
    "stepsize = 1.0\n",
    "w, objvals_gd = grad_descent(x_train, y_train, lam, stepsize)"
   ]
  },
  {
   "cell_type": "markdown",
   "metadata": {},
   "source": [
    "## 3.2. Stochastic gradient descent (SGD)\n",
    "\n",
    "Define $Q_i (w) = \\log \\Big( 1 + \\exp \\big( - y_i x_i^T w \\big) \\Big) + \\frac{\\lambda}{2} \\| w \\|_2^2 $.\n",
    "\n",
    "The stochastic gradient at $w$ is $g_i = \\frac{\\partial Q_i }{ \\partial w} = -\\frac{y_i x_i }{1 + \\exp ( y_i x_i^T w)} + \\lambda w$."
   ]
  },
  {
   "cell_type": "code",
   "execution_count": 10,
   "metadata": {},
   "outputs": [],
   "source": [
    "# Calculate the objective Q_i and the gradient of Q_i\n",
    "# Inputs:\n",
    "#     w: d-by-1 matrix\n",
    "#     xi: 1-by-d matrix\n",
    "#     yi: scalar\n",
    "#     lam: scalar, the regularization parameter\n",
    "# Return:\n",
    "#     obj: scalar, the objective Q_i\n",
    "#     g: d-by-1 matrix, gradient of Q_i\n",
    "def stochastic_objective_gradient(w, xi, yi, lam):\n",
    "    d = xi.shape[0]\n",
    "    yx = yi * xi # 1-by-d matrix\n",
    "    yxw = float(numpy.dot(yx, w)) # scalar\n",
    "    \n",
    "    # calculate objective function Q_i\n",
    "    loss = numpy.log(1 + numpy.exp(-yxw)) # scalar\n",
    "    reg = lam / 2 * numpy.sum(w * w) # scalar\n",
    "    obj = loss + reg\n",
    "    \n",
    "    # calculate stochastic gradient\n",
    "    g_loss = -yx.T / (1 + numpy.exp(yxw)) # d-by-1 matrix\n",
    "    g = g_loss + lam * w # d-by-1 matrix\n",
    "    \n",
    "    return obj, g"
   ]
  },
  {
   "cell_type": "code",
   "execution_count": 11,
   "metadata": {},
   "outputs": [],
   "source": [
    "# SGD for solving logistic regression\n",
    "# Inputs:\n",
    "#     x: n-by-d matrix\n",
    "#     y: n-by-1 matrix\n",
    "#     lam: scalar, the regularization parameter\n",
    "#     stepsize: scalar\n",
    "#     max_epoch: integer, the maximal epochs\n",
    "#     w: d-by-1 matrix, initialization of w\n",
    "# Return:\n",
    "#     w: the solution\n",
    "#     objvals: record of each iteration's objective value\n",
    "def sgd(x, y, lam, stepsize, max_epoch=100, w=None):\n",
    "    n, d = x.shape\n",
    "    objvals = numpy.zeros(max_epoch) # store the objective values\n",
    "    if w is None:\n",
    "        w = numpy.zeros((d, 1)) # zero initialization\n",
    "    \n",
    "    for t in range(max_epoch):\n",
    "        # randomly shuffle the samples\n",
    "        rand_indices = numpy.random.permutation(n)\n",
    "        x_rand = x[rand_indices, :]\n",
    "        y_rand = y[rand_indices, :]\n",
    "        \n",
    "        objval = 0 # accumulate the objective values\n",
    "        for i in range(n):\n",
    "            xi = x_rand[i, :] # 1-by-d matrix\n",
    "            yi = float(y_rand[i, :]) # scalar\n",
    "            obj, g = stochastic_objective_gradient(w, xi, yi, lam)\n",
    "            objval += obj\n",
    "            w -= stepsize * g\n",
    "        \n",
    "        stepsize *= 0.9 # decrease step size\n",
    "        objval /= n\n",
    "        objvals[t] = objval\n",
    "        print('Objective value at epoch t=' + str(t) + ' is ' + str(objval))\n",
    "    \n",
    "    return w, objvals"
   ]
  },
  {
   "cell_type": "markdown",
   "metadata": {},
   "source": [
    "Run SGD."
   ]
  },
  {
   "cell_type": "code",
   "execution_count": 12,
   "metadata": {},
   "outputs": [
    {
     "name": "stdout",
     "output_type": "stream",
     "text": [
      "Objective value at epoch t=0 is 0.5357694975618597\n",
      "Objective value at epoch t=1 is 0.5080102975490339\n",
      "Objective value at epoch t=2 is 0.5006223496052009\n",
      "Objective value at epoch t=3 is 0.5000954613200035\n",
      "Objective value at epoch t=4 is 0.49364629434360374\n",
      "Objective value at epoch t=5 is 0.49358141677101663\n",
      "Objective value at epoch t=6 is 0.4816556298658142\n",
      "Objective value at epoch t=7 is 0.4892093916574719\n",
      "Objective value at epoch t=8 is 0.48450224496835154\n",
      "Objective value at epoch t=9 is 0.4853082436062965\n",
      "Objective value at epoch t=10 is 0.48050939130755044\n",
      "Objective value at epoch t=11 is 0.4811783983194956\n",
      "Objective value at epoch t=12 is 0.47764712808518517\n",
      "Objective value at epoch t=13 is 0.4756250909515323\n",
      "Objective value at epoch t=14 is 0.4766428344147403\n",
      "Objective value at epoch t=15 is 0.47610099411039775\n",
      "Objective value at epoch t=16 is 0.4730981186630756\n",
      "Objective value at epoch t=17 is 0.4725759157962878\n",
      "Objective value at epoch t=18 is 0.4720012731910995\n",
      "Objective value at epoch t=19 is 0.47078713398263955\n",
      "Objective value at epoch t=20 is 0.4703259219717778\n",
      "Objective value at epoch t=21 is 0.4691654327504538\n",
      "Objective value at epoch t=22 is 0.46884694562238377\n",
      "Objective value at epoch t=23 is 0.4681150993023005\n",
      "Objective value at epoch t=24 is 0.46748556699206584\n",
      "Objective value at epoch t=25 is 0.4669490512152934\n",
      "Objective value at epoch t=26 is 0.4662130851762344\n",
      "Objective value at epoch t=27 is 0.46604316157547876\n",
      "Objective value at epoch t=28 is 0.46545990506838947\n",
      "Objective value at epoch t=29 is 0.4651496396731356\n",
      "Objective value at epoch t=30 is 0.4649122278002154\n",
      "Objective value at epoch t=31 is 0.46456803843999517\n",
      "Objective value at epoch t=32 is 0.4643560812965653\n",
      "Objective value at epoch t=33 is 0.4641282433541719\n",
      "Objective value at epoch t=34 is 0.4637744976673018\n",
      "Objective value at epoch t=35 is 0.4636697352657021\n",
      "Objective value at epoch t=36 is 0.4633823288622331\n",
      "Objective value at epoch t=37 is 0.46331252269910717\n",
      "Objective value at epoch t=38 is 0.4631735007090751\n",
      "Objective value at epoch t=39 is 0.46304270501171113\n",
      "Objective value at epoch t=40 is 0.4629246689625403\n",
      "Objective value at epoch t=41 is 0.4627740401005441\n",
      "Objective value at epoch t=42 is 0.46270012538359556\n",
      "Objective value at epoch t=43 is 0.4626188042656696\n",
      "Objective value at epoch t=44 is 0.46253203597109405\n",
      "Objective value at epoch t=45 is 0.46244485839518923\n",
      "Objective value at epoch t=46 is 0.46239624536157836\n",
      "Objective value at epoch t=47 is 0.462337377758927\n",
      "Objective value at epoch t=48 is 0.46228609379374197\n",
      "Objective value at epoch t=49 is 0.4622396505777293\n",
      "Objective value at epoch t=50 is 0.46219428868894025\n",
      "Objective value at epoch t=51 is 0.4621569128676727\n",
      "Objective value at epoch t=52 is 0.46212321636030235\n",
      "Objective value at epoch t=53 is 0.462092170316155\n",
      "Objective value at epoch t=54 is 0.4620624407910984\n",
      "Objective value at epoch t=55 is 0.46203735840675286\n",
      "Objective value at epoch t=56 is 0.4620147623062862\n",
      "Objective value at epoch t=57 is 0.4619942110945695\n",
      "Objective value at epoch t=58 is 0.46197543266675806\n",
      "Objective value at epoch t=59 is 0.46195845143244957\n",
      "Objective value at epoch t=60 is 0.4619435594535989\n",
      "Objective value at epoch t=61 is 0.46193009862385565\n",
      "Objective value at epoch t=62 is 0.4619176195961451\n",
      "Objective value at epoch t=63 is 0.46190645986628426\n",
      "Objective value at epoch t=64 is 0.46189669507834485\n",
      "Objective value at epoch t=65 is 0.4618877019474107\n",
      "Objective value at epoch t=66 is 0.4618797001310404\n",
      "Objective value at epoch t=67 is 0.4618724686162781\n",
      "Objective value at epoch t=68 is 0.46186593794994246\n",
      "Objective value at epoch t=69 is 0.461860055071012\n",
      "Objective value at epoch t=70 is 0.46185476781780477\n",
      "Objective value at epoch t=71 is 0.4618500146198931\n",
      "Objective value at epoch t=72 is 0.46184573727300826\n",
      "Objective value at epoch t=73 is 0.4618418846493487\n",
      "Objective value at epoch t=74 is 0.461838405506484\n",
      "Objective value at epoch t=75 is 0.461835289254381\n",
      "Objective value at epoch t=76 is 0.46183248196516624\n",
      "Objective value at epoch t=77 is 0.4618299510798762\n",
      "Objective value at epoch t=78 is 0.4618276736203639\n",
      "Objective value at epoch t=79 is 0.4618256145723735\n",
      "Objective value at epoch t=80 is 0.46182377735448144\n",
      "Objective value at epoch t=81 is 0.46182211370880244\n",
      "Objective value at epoch t=82 is 0.46182061968486676\n",
      "Objective value at epoch t=83 is 0.4618192754154767\n",
      "Objective value at epoch t=84 is 0.46181806756410965\n",
      "Objective value at epoch t=85 is 0.461816971583023\n",
      "Objective value at epoch t=86 is 0.4618159956639823\n",
      "Objective value at epoch t=87 is 0.46181511308705303\n",
      "Objective value at epoch t=88 is 0.46181431818980717\n",
      "Objective value at epoch t=89 is 0.46181360357987195\n",
      "Objective value at epoch t=90 is 0.46181296003633604\n",
      "Objective value at epoch t=91 is 0.46181238087045784\n",
      "Objective value at epoch t=92 is 0.4618118591485474\n",
      "Objective value at epoch t=93 is 0.4618113904389373\n",
      "Objective value at epoch t=94 is 0.46181096806784544\n",
      "Objective value at epoch t=95 is 0.46181058797780333\n",
      "Objective value at epoch t=96 is 0.46181024601224063\n",
      "Objective value at epoch t=97 is 0.4618099382607431\n",
      "Objective value at epoch t=98 is 0.46180966090070397\n",
      "Objective value at epoch t=99 is 0.4618094117779605\n"
     ]
    }
   ],
   "source": [
    "lam = 1E-6\n",
    "stepsize = 0.1\n",
    "w, objvals_sgd = sgd(x_train, y_train, lam, stepsize)"
   ]
  },
  {
   "cell_type": "markdown",
   "metadata": {},
   "source": [
    "# 4. Compare GD with SGD\n",
    "\n",
    "Plot objective function values against epochs."
   ]
  },
  {
   "cell_type": "code",
   "execution_count": 13,
   "metadata": {},
   "outputs": [
    {
     "data": {
      "image/png": "[encoded data removed]",
      "text/plain": [
       "<Figure size 432x288 with 1 Axes>"
      ]
     },
     "metadata": {
      "needs_background": "light"
     },
     "output_type": "display_data"
    }
   ],
   "source": [
    "import matplotlib.pyplot as plt\n",
    "%matplotlib inline\n",
    "\n",
    "fig = plt.figure(figsize=(6, 4))\n",
    "\n",
    "epochs_gd = range(len(objvals_gd))\n",
    "epochs_sgd = range(len(objvals_sgd))\n",
    "\n",
    "line0, = plt.plot(epochs_gd, objvals_gd, '--b', LineWidth=4)\n",
    "line1, = plt.plot(epochs_sgd, objvals_sgd, '-r', LineWidth=2)\n",
    "plt.xlabel('Epochs', FontSize=20)\n",
    "plt.ylabel('Objective Value', FontSize=20)\n",
    "plt.xticks(FontSize=16)\n",
    "plt.yticks(FontSize=16)\n",
    "plt.legend([line0, line1], ['GD', 'SGD'], fontsize=20)\n",
    "plt.tight_layout()\n",
    "plt.show()\n",
    "fig.savefig('compare_gd_sgd.pdf', format='pdf', dpi=1200)"
   ]
  },
  {
   "cell_type": "markdown",
   "metadata": {},
   "source": [
    "# 5. Prediction"
   ]
  },
  {
   "cell_type": "code",
   "execution_count": 14,
   "metadata": {},
   "outputs": [],
   "source": [
    "# Predict class label\n",
    "# Inputs:\n",
    "#     w: d-by-1 matrix\n",
    "#     X: m-by-d matrix\n",
    "# Return:\n",
    "#     f: m-by-1 matrix, the predictions\n",
    "def predict(w, X):\n",
    "    xw = numpy.dot(X, w)\n",
    "    f = numpy.sign(xw)\n",
    "    return f"
   ]
  },
  {
   "cell_type": "code",
   "execution_count": 15,
   "metadata": {},
   "outputs": [
    {
     "name": "stdout",
     "output_type": "stream",
     "text": [
      "Training classification error is 0.2015625\n"
     ]
    }
   ],
   "source": [
    "# evaluate training error\n",
    "f_train = predict(w, x_train)\n",
    "diff = numpy.abs(f_train - y_train) / 2\n",
    "error_train = numpy.mean(diff)\n",
    "print('Training classification error is ' + str(error_train))"
   ]
  },
  {
   "cell_type": "code",
   "execution_count": 16,
   "metadata": {},
   "outputs": [
    {
     "name": "stdout",
     "output_type": "stream",
     "text": [
      "Test classification error is 0.28125\n"
     ]
    }
   ],
   "source": [
    "# evaluate test error\n",
    "f_test = predict(w, x_test)\n",
    "diff = numpy.abs(f_test - y_test) / 2\n",
    "error_test = numpy.mean(diff)\n",
    "print('Test classification error is ' + str(error_test))"
   ]
  },
  {
   "cell_type": "markdown",
   "metadata": {},
   "source": [
    "# 6. Mini-batch SGD\n",
    "\n"
   ]
  },
  {
   "cell_type": "markdown",
   "metadata": {},
   "source": [
    "## 6.1. Compute the objective $Q_I$ and its gradient using a batch of samples\n",
    "\n",
    "Define $Q_I (w) = \\frac{1}{b} \\sum_{i \\in I} \\log \\Big( 1 + \\exp \\big( - y_i x_i^T w \\big) \\Big) + \\frac{\\lambda}{2} \\| w \\|_2^2 $, where $I$ is a set containing $b$ indices randomly drawn from $\\{ 1, \\cdots , n \\}$ without replacement.\n",
    "\n",
    "The stochastic gradient at $w$ is $g_I = \\frac{\\partial Q_I }{ \\partial w} = \\frac{1}{b} \\sum_{i \\in I} \\frac{- y_i x_i }{1 + \\exp ( y_i x_i^T w)} + \\lambda w$."
   ]
  },
  {
   "cell_type": "code",
   "execution_count": 17,
   "metadata": {},
   "outputs": [],
   "source": [
    "# Calculate the objective Q_I and the gradient of Q_I\n",
    "# Inputs:\n",
    "#     w: d-by-1 matrix\n",
    "#     xi: b-by-d matrix\n",
    "#     yi: b-by-1 matrix\n",
    "#     lam: scalar, the regularization parameter\n",
    "#     b: integer, the batch size\n",
    "# Return:\n",
    "#     obj: scalar, the objective Q_i\n",
    "#     g: d-by-1 matrix, gradient of Q_i\n",
    "def mb_stochastic_objective_gradient(w, xi, yi, lam, b):\n",
    "    yx = numpy.multiply(yi, xi) # b-by-d matrix\n",
    "    yxw = numpy.dot(yx, w) # b-by-1 matrix\n",
    "    \n",
    "    # calculate objective function Q_i\n",
    "    log_loss = numpy.log(1 + numpy.exp(-yxw)) # b-by-1 matrix\n",
    "    loss = numpy.mean(log_loss) # scalar\n",
    "    reg = lam / 2 * numpy.sum(w * w) # scalar\n",
    "    obj = loss + reg\n",
    "    \n",
    "    # calculate stochastic gradient\n",
    "    mat1 = numpy.divide(yx, 1+numpy.exp(yxw)) # b-by-d matrix\n",
    "    mat2 = -numpy.mean(mat1, axis=0).reshape(d, 1) # d-by-1 matrix\n",
    "    g = mat2 + lam * w # d-by-1 matrix\n",
    "    \n",
    "    return obj, g"
   ]
  },
  {
   "cell_type": "markdown",
   "metadata": {},
   "source": [
    "## 6.2. Implement mini-batch SGD\n",
    "\n",
    "Hints:\n",
    "1. In every epoch, randomly permute the $n$ samples (just like SGD).\n",
    "2. Each epoch has $\\frac{n}{b}$ iterations. In every iteration, use $b$ samples, and compute the gradient and objective using the ``mb_stochastic_objective_gradient`` function. In the next iteration, use the next $b$ samples, and so on.\n"
   ]
  },
  {
   "cell_type": "code",
   "execution_count": 18,
   "metadata": {},
   "outputs": [],
   "source": [
    "# Helper Function for Dividing (X,Y) into B-batches\n",
    "# Inputs:\n",
    "#     x: n-by-d matrix\n",
    "#     y: n-by-1 matrix\n",
    "#     b: integer, the batch size\n",
    "# Return:\n",
    "#     batches: Array of B samples containing (X,Y)\n",
    "def make_batches(x, y, b): \n",
    "    batches = [] \n",
    "    data = numpy.hstack((x, y)) \n",
    "    n_batches = data.shape[0] // b \n",
    "    for i in range(n_batches): \n",
    "        batch = data[i*b:(i+1)*b, :] \n",
    "        xb = batch[:, :-1] \n",
    "        yb = batch[:, -1]\n",
    "        batches.append((xb, yb)) \n",
    "    return batches "
   ]
  },
  {
   "cell_type": "code",
   "execution_count": 19,
   "metadata": {},
   "outputs": [],
   "source": [
    "# Mini-Batch SGD for solving logistic regression\n",
    "# Inputs:\n",
    "#     x: n-by-d matrix\n",
    "#     y: n-by-1 matrix\n",
    "#     lam: scalar, the regularization parameter\n",
    "#     b: integer, the batch size\n",
    "#     stepsize: scalar\n",
    "#     max_epoch: integer, the maximal epochs\n",
    "#     w: d-by-1 matrix, initialization of w\n",
    "# Return:\n",
    "#     w: the solution\n",
    "#     objvals: record of each iteration's objective value\n",
    "def mb_sgd(x, y, lam, b, stepsize, max_epoch=100, w=None):\n",
    "    n, d = x.shape\n",
    "    objvals = numpy.zeros(max_epoch) # store the objective values\n",
    "    if w is None:\n",
    "        w = numpy.zeros((d, 1)) # zero initialization\n",
    "    \n",
    "    for t in range(max_epoch):\n",
    "        \n",
    "        # randomly shuffle the samples\n",
    "        rand_indices = numpy.random.permutation(n)\n",
    "        x_rand = x[rand_indices, :]\n",
    "        y_rand = y[rand_indices, :]\n",
    "        \n",
    "        objval = 0 # accumulate the objective values\n",
    "        batches = make_batches(x_rand, y_rand, b) \n",
    "        for batch in batches:\n",
    "            xb, yb = batch\n",
    "            obj, g = mb_stochastic_objective_gradient(w, xb, yb, lam, b)\n",
    "            objval += obj\n",
    "            w -= stepsize * g\n",
    "        \n",
    "        stepsize *= 0.9\n",
    "        objval /= (n/b)\n",
    "        objvals[t] = objval\n",
    "        print('Objective value at epoch t=' + str(t) + ' is ' + str(objval))    \n",
    "    \n",
    "    return w, objvals"
   ]
  },
  {
   "cell_type": "markdown",
   "metadata": {},
   "source": [
    "## 6.3. Run MB-SGD"
   ]
  },
  {
   "cell_type": "code",
   "execution_count": 20,
   "metadata": {},
   "outputs": [
    {
     "name": "stdout",
     "output_type": "stream",
     "text": [
      "Objective value at epoch t=0 is 0.5398420855276751\n",
      "Objective value at epoch t=1 is 0.479344835170718\n",
      "Objective value at epoch t=2 is 0.47156282156839086\n",
      "Objective value at epoch t=3 is 0.4695287751006389\n",
      "Objective value at epoch t=4 is 0.4675221607696485\n",
      "Objective value at epoch t=5 is 0.46712979834421436\n",
      "Objective value at epoch t=6 is 0.4663896750828365\n",
      "Objective value at epoch t=7 is 0.46610678840153746\n",
      "Objective value at epoch t=8 is 0.465414083833784\n",
      "Objective value at epoch t=9 is 0.46526689688243617\n",
      "Objective value at epoch t=10 is 0.46498558404428775\n",
      "Objective value at epoch t=11 is 0.4645790595651954\n",
      "Objective value at epoch t=12 is 0.4642971825756249\n",
      "Objective value at epoch t=13 is 0.46412589500891344\n",
      "Objective value at epoch t=14 is 0.4640145647708113\n",
      "Objective value at epoch t=15 is 0.4637490199315205\n",
      "Objective value at epoch t=16 is 0.4636486747558237\n",
      "Objective value at epoch t=17 is 0.46336842810633694\n",
      "Objective value at epoch t=18 is 0.4632389772531999\n",
      "Objective value at epoch t=19 is 0.46304866488508367\n",
      "Objective value at epoch t=20 is 0.462850905930423\n",
      "Objective value at epoch t=21 is 0.4627345068784449\n",
      "Objective value at epoch t=22 is 0.46270836569180557\n",
      "Objective value at epoch t=23 is 0.46255742701778785\n",
      "Objective value at epoch t=24 is 0.46251587744496075\n",
      "Objective value at epoch t=25 is 0.46244097975775633\n",
      "Objective value at epoch t=26 is 0.4623751688642643\n",
      "Objective value at epoch t=27 is 0.46233551022106295\n",
      "Objective value at epoch t=28 is 0.46229631595951143\n",
      "Objective value at epoch t=29 is 0.46225111834126953\n",
      "Objective value at epoch t=30 is 0.46221561737549255\n",
      "Objective value at epoch t=31 is 0.4621631858896508\n",
      "Objective value at epoch t=32 is 0.4621095816681654\n",
      "Objective value at epoch t=33 is 0.46209069026345323\n",
      "Objective value at epoch t=34 is 0.4620536724026092\n",
      "Objective value at epoch t=35 is 0.4620223902220012\n",
      "Objective value at epoch t=36 is 0.4620201461275636\n",
      "Objective value at epoch t=37 is 0.4619913876824378\n",
      "Objective value at epoch t=38 is 0.4619904624434625\n",
      "Objective value at epoch t=39 is 0.46197104076257167\n",
      "Objective value at epoch t=40 is 0.4619399207427549\n",
      "Objective value at epoch t=41 is 0.461929408560667\n",
      "Objective value at epoch t=42 is 0.46192482448629607\n",
      "Objective value at epoch t=43 is 0.4619092932469259\n",
      "Objective value at epoch t=44 is 0.4618895870590147\n",
      "Objective value at epoch t=45 is 0.46189776480809003\n",
      "Objective value at epoch t=46 is 0.461883479065083\n",
      "Objective value at epoch t=47 is 0.46187795632792106\n",
      "Objective value at epoch t=48 is 0.4618672729438269\n",
      "Objective value at epoch t=49 is 0.46185701528031436\n",
      "Objective value at epoch t=50 is 0.46185666784769086\n",
      "Objective value at epoch t=51 is 0.4618538633219325\n",
      "Objective value at epoch t=52 is 0.4618441921545381\n",
      "Objective value at epoch t=53 is 0.4618389857126422\n",
      "Objective value at epoch t=54 is 0.4618410153916258\n",
      "Objective value at epoch t=55 is 0.4618384842429212\n",
      "Objective value at epoch t=56 is 0.46183470294531415\n",
      "Objective value at epoch t=57 is 0.4618306260019776\n",
      "Objective value at epoch t=58 is 0.46182812304912996\n",
      "Objective value at epoch t=59 is 0.46182691119614444\n",
      "Objective value at epoch t=60 is 0.4618253080179679\n",
      "Objective value at epoch t=61 is 0.46182311094984196\n",
      "Objective value at epoch t=62 is 0.4618213949790215\n",
      "Objective value at epoch t=63 is 0.46181880926307556\n",
      "Objective value at epoch t=64 is 0.46181815556560235\n",
      "Objective value at epoch t=65 is 0.4618188505865149\n",
      "Objective value at epoch t=66 is 0.4618164767801378\n",
      "Objective value at epoch t=67 is 0.46181584102481477\n",
      "Objective value at epoch t=68 is 0.4618151489230448\n",
      "Objective value at epoch t=69 is 0.461813700686562\n",
      "Objective value at epoch t=70 is 0.46181279082904203\n",
      "Objective value at epoch t=71 is 0.46181321942028764\n",
      "Objective value at epoch t=72 is 0.4618122690008398\n",
      "Objective value at epoch t=73 is 0.4618120701618368\n",
      "Objective value at epoch t=74 is 0.46181129611491933\n",
      "Objective value at epoch t=75 is 0.4618110517748465\n",
      "Objective value at epoch t=76 is 0.46181066655052366\n",
      "Objective value at epoch t=77 is 0.46181052547888723\n",
      "Objective value at epoch t=78 is 0.46181005300808986\n",
      "Objective value at epoch t=79 is 0.461809808402292\n",
      "Objective value at epoch t=80 is 0.46180969147786366\n",
      "Objective value at epoch t=81 is 0.46180950959032263\n",
      "Objective value at epoch t=82 is 0.4618093921448592\n",
      "Objective value at epoch t=83 is 0.46180908435341805\n",
      "Objective value at epoch t=84 is 0.4618089772519795\n",
      "Objective value at epoch t=85 is 0.46180883809790707\n",
      "Objective value at epoch t=86 is 0.46180873137102446\n",
      "Objective value at epoch t=87 is 0.4618087172508534\n",
      "Objective value at epoch t=88 is 0.4618084328754352\n",
      "Objective value at epoch t=89 is 0.4618083914256682\n",
      "Objective value at epoch t=90 is 0.4618083650221746\n",
      "Objective value at epoch t=91 is 0.46180824211486604\n",
      "Objective value at epoch t=92 is 0.4618082056184855\n",
      "Objective value at epoch t=93 is 0.46180813815899935\n",
      "Objective value at epoch t=94 is 0.46180806076383635\n",
      "Objective value at epoch t=95 is 0.46180800856224813\n",
      "Objective value at epoch t=96 is 0.4618080387040721\n",
      "Objective value at epoch t=97 is 0.46180796079831976\n",
      "Objective value at epoch t=98 is 0.46180796201876745\n",
      "Objective value at epoch t=99 is 0.4618079269071401\n"
     ]
    }
   ],
   "source": [
    "# MB-SGD with batch size b=8\n",
    "lam = 1E-6\n",
    "b = 8\n",
    "stepsize = 0.1\n",
    "w, objvals_mbsgd8 = mb_sgd(x_train, y_train, lam, b, stepsize)"
   ]
  },
  {
   "cell_type": "code",
   "execution_count": 21,
   "metadata": {},
   "outputs": [
    {
     "name": "stdout",
     "output_type": "stream",
     "text": [
      "Objective value at epoch t=0 is 0.5379858848867717\n",
      "Objective value at epoch t=1 is 0.47962466871094145\n",
      "Objective value at epoch t=2 is 0.47058182878110755\n",
      "Objective value at epoch t=3 is 0.4687110491838865\n",
      "Objective value at epoch t=4 is 0.468179305358383\n",
      "Objective value at epoch t=5 is 0.46639378400116643\n",
      "Objective value at epoch t=6 is 0.46552999418763685\n",
      "Objective value at epoch t=7 is 0.46624675121387565\n",
      "Objective value at epoch t=8 is 0.46498214731665993\n",
      "Objective value at epoch t=9 is 0.4646455891760401\n",
      "Objective value at epoch t=10 is 0.464861034704235\n",
      "Objective value at epoch t=11 is 0.4647539041118144\n",
      "Objective value at epoch t=12 is 0.4636734744645826\n",
      "Objective value at epoch t=13 is 0.4640436265057578\n",
      "Objective value at epoch t=14 is 0.46363602061704573\n",
      "Objective value at epoch t=15 is 0.463128162031927\n",
      "Objective value at epoch t=16 is 0.4640285925347736\n",
      "Objective value at epoch t=17 is 0.46297893910883275\n",
      "Objective value at epoch t=18 is 0.46293652341189817\n",
      "Objective value at epoch t=19 is 0.46271682708193984\n",
      "Objective value at epoch t=20 is 0.4630872404816591\n",
      "Objective value at epoch t=21 is 0.4632097971859813\n",
      "Objective value at epoch t=22 is 0.4626091207131651\n",
      "Objective value at epoch t=23 is 0.4625728928470692\n",
      "Objective value at epoch t=24 is 0.4623714984417487\n",
      "Objective value at epoch t=25 is 0.4623411065918999\n",
      "Objective value at epoch t=26 is 0.46246277007014563\n",
      "Objective value at epoch t=27 is 0.4623227594957652\n",
      "Objective value at epoch t=28 is 0.4621655997320763\n",
      "Objective value at epoch t=29 is 0.4621874180822962\n",
      "Objective value at epoch t=30 is 0.462125632360966\n",
      "Objective value at epoch t=31 is 0.46215556830397897\n",
      "Objective value at epoch t=32 is 0.4621739668482208\n",
      "Objective value at epoch t=33 is 0.4620679019716585\n",
      "Objective value at epoch t=34 is 0.46208340140703824\n",
      "Objective value at epoch t=35 is 0.46205057406053307\n",
      "Objective value at epoch t=36 is 0.46199145306703954\n",
      "Objective value at epoch t=37 is 0.4619848644446537\n",
      "Objective value at epoch t=38 is 0.4619562644225767\n",
      "Objective value at epoch t=39 is 0.46195737613774224\n",
      "Objective value at epoch t=40 is 0.4619158255622525\n",
      "Objective value at epoch t=41 is 0.4619018363527948\n",
      "Objective value at epoch t=42 is 0.46191432269120636\n",
      "Objective value at epoch t=43 is 0.46188619273913634\n",
      "Objective value at epoch t=44 is 0.461880489479351\n",
      "Objective value at epoch t=45 is 0.46188289008856753\n",
      "Objective value at epoch t=46 is 0.46187637199640463\n",
      "Objective value at epoch t=47 is 0.46188620558881377\n",
      "Objective value at epoch t=48 is 0.4618679870185821\n",
      "Objective value at epoch t=49 is 0.46187638793928365\n",
      "Objective value at epoch t=50 is 0.46184188592082587\n",
      "Objective value at epoch t=51 is 0.46184031367220146\n",
      "Objective value at epoch t=52 is 0.46184465007867354\n",
      "Objective value at epoch t=53 is 0.46183654015449027\n",
      "Objective value at epoch t=54 is 0.4618361273266295\n",
      "Objective value at epoch t=55 is 0.461831541407242\n",
      "Objective value at epoch t=56 is 0.46183178905642935\n",
      "Objective value at epoch t=57 is 0.46182382386064724\n",
      "Objective value at epoch t=58 is 0.46182519312338677\n",
      "Objective value at epoch t=59 is 0.46182341475999245\n",
      "Objective value at epoch t=60 is 0.4618219821842313\n",
      "Objective value at epoch t=61 is 0.46182322157315936\n",
      "Objective value at epoch t=62 is 0.46182327085829283\n",
      "Objective value at epoch t=63 is 0.4618204633711563\n",
      "Objective value at epoch t=64 is 0.4618170503710567\n",
      "Objective value at epoch t=65 is 0.4618169496461003\n",
      "Objective value at epoch t=66 is 0.4618162741434616\n",
      "Objective value at epoch t=67 is 0.4618137127487231\n",
      "Objective value at epoch t=68 is 0.4618154958605928\n",
      "Objective value at epoch t=69 is 0.4618133083392877\n",
      "Objective value at epoch t=70 is 0.46181299978944157\n",
      "Objective value at epoch t=71 is 0.46181099589387403\n",
      "Objective value at epoch t=72 is 0.461811283032031\n",
      "Objective value at epoch t=73 is 0.4618112964916551\n",
      "Objective value at epoch t=74 is 0.46181139528689935\n",
      "Objective value at epoch t=75 is 0.46181030127299305\n",
      "Objective value at epoch t=76 is 0.4618097580965137\n",
      "Objective value at epoch t=77 is 0.46181029194959544\n",
      "Objective value at epoch t=78 is 0.4618099790527694\n",
      "Objective value at epoch t=79 is 0.4618100618947648\n",
      "Objective value at epoch t=80 is 0.4618094107325533\n",
      "Objective value at epoch t=81 is 0.4618096469641392\n",
      "Objective value at epoch t=82 is 0.461809139014307\n",
      "Objective value at epoch t=83 is 0.46180863948666506\n",
      "Objective value at epoch t=84 is 0.46180839153576353\n",
      "Objective value at epoch t=85 is 0.46180869064219465\n",
      "Objective value at epoch t=86 is 0.4618085835219913\n",
      "Objective value at epoch t=87 is 0.4618082620508067\n",
      "Objective value at epoch t=88 is 0.4618084413105551\n",
      "Objective value at epoch t=89 is 0.46180844277388233\n",
      "Objective value at epoch t=90 is 0.4618083148843284\n",
      "Objective value at epoch t=91 is 0.4618080413729312\n",
      "Objective value at epoch t=92 is 0.4618081236906413\n",
      "Objective value at epoch t=93 is 0.4618083274792094\n",
      "Objective value at epoch t=94 is 0.46180795807906216\n",
      "Objective value at epoch t=95 is 0.46180796044364925\n",
      "Objective value at epoch t=96 is 0.461807826105394\n",
      "Objective value at epoch t=97 is 0.46180787411363544\n",
      "Objective value at epoch t=98 is 0.46180786914144656\n",
      "Objective value at epoch t=99 is 0.4618077863205534\n"
     ]
    }
   ],
   "source": [
    "# MB-SGD with batch size b=64\n",
    "lam = 1E-6\n",
    "b = 64\n",
    "stepsize = 0.8\n",
    "w, objvals_mbsgd64 = mb_sgd(x_train, y_train, lam, b, stepsize)"
   ]
  },
  {
   "cell_type": "markdown",
   "metadata": {},
   "source": [
    "# 7. Plot and compare GD, SGD, and MB-SGD"
   ]
  },
  {
   "cell_type": "markdown",
   "metadata": {},
   "source": [
    "You are required to compare the following algorithms:\n",
    "\n",
    "- Gradient descent (GD)\n",
    "\n",
    "- SGD\n",
    "\n",
    "- MB-SGD with b=8\n",
    "\n",
    "- MB-SGD with b=64\n",
    "\n",
    "Follow the code in Section 4 to plot ```objective function value``` against ```epochs```. There should be four curves in the plot; each curve corresponds to one algorithm."
   ]
  },
  {
   "cell_type": "markdown",
   "metadata": {},
   "source": [
    "Hint: Logistic regression with $\\ell_2$-norm regularization is a strongly convex optimization problem. All the algorithms will converge to the same solution. **In the end, the ``objective function value`` of the 4 algorithms will be the same. If not the same, your implementation must be wrong. Do NOT submit wrong code and wrong result!**"
   ]
  },
  {
   "cell_type": "code",
   "execution_count": 22,
   "metadata": {},
   "outputs": [
    {
     "data": {
      "image/png": "[encoded data removed]",
      "text/plain": [
       "<Figure size 432x288 with 1 Axes>"
      ]
     },
     "metadata": {
      "needs_background": "light"
     },
     "output_type": "display_data"
    }
   ],
   "source": [
    "import matplotlib.pyplot as plt\n",
    "%matplotlib inline\n",
    "\n",
    "fig2 = plt.figure(figsize=(6, 4))\n",
    "\n",
    "epochs_gd = range(len(objvals_gd))\n",
    "epochs_sgd = range(len(objvals_sgd))\n",
    "epochs_mgd8 = range(len(objvals_mbsgd8))\n",
    "epochs_mgd64 = range(len(objvals_mbsgd64))\n",
    "\n",
    "line0, = plt.plot(epochs_gd, objvals_gd, '--b', LineWidth=2)\n",
    "line1, = plt.plot(epochs_sgd, objvals_sgd, '-r', LineWidth=2)\n",
    "line2, = plt.plot(epochs_mgd8, objvals_mbsgd8, '-g', LineWidth=3)\n",
    "line3, = plt.plot(epochs_mgd64, objvals_mbsgd64, '--k', LineWidth=2)\n",
    "plt.xlabel('Epochs', FontSize=20)\n",
    "plt.ylabel('Objective Value', FontSize=20)\n",
    "plt.xticks(FontSize=16)\n",
    "plt.yticks(FontSize=16)\n",
    "plt.legend([line0, line1, line2, line3], ['GD', 'SGD', 'MB-SGD B=8', 'MB-SGD B=64'], fontsize=20)\n",
    "plt.tight_layout()\n",
    "plt.show()\n",
    "fig2.savefig('compare_gd_sgd_mbgd8_mbgd64.pdf', format='pdf', dpi=1200)"
   ]
  },
  {
   "cell_type": "markdown",
   "metadata": {},
   "source": []
  }
 ],
 "metadata": {
  "kernel_info": {
   "name": "python3"
  },
  "kernelspec": {
   "display_name": "Python 3",
   "language": "python",
   "name": "python3"
  },
  "language_info": {
   "codemirror_mode": {
    "name": "ipython",
    "version": 3
   },
   "file_extension": ".py",
   "mimetype": "text/x-python",
   "name": "python",
   "nbconvert_exporter": "python",
   "pygments_lexer": "ipython3",
   "version": "3.8.5"
  },
  "nteract": {
   "version": "nteract-front-end@1.0.0"
  }
 },
 "nbformat": 4,
 "nbformat_minor": 2
}
